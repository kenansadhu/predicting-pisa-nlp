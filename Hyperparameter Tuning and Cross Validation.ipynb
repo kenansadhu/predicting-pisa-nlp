{
 "cells": [
  {
   "cell_type": "markdown",
   "metadata": {},
   "source": [
    "# Using NLP on Educational Reform Policies to Predict Educational Outcome\n",
    "### Hyperparameter Tuning and Cross Validation"
   ]
  },
  {
   "cell_type": "markdown",
   "metadata": {},
   "source": [
    "#### Import Statements"
   ]
  },
  {
   "cell_type": "code",
   "execution_count": null,
   "metadata": {},
   "outputs": [],
   "source": [
    "import pandas as pd\n",
    "import numpy as np\n",
    "import seaborn as sns\n",
    "import matplotlib.pyplot as plt\n",
    "from sklearn.feature_extraction.text import TfidfVectorizer\n",
    "import gensim\n",
    "from gensim.models.doc2vec import Doc2Vec, TaggedDocument\n",
    "from transformers import BertTokenizer, BertModel\n",
    "import torch\n",
    "from sklearn.model_selection import train_test_split, GridSearchCV, cross_val_score, KFold\n",
    "from sklearn.metrics import make_scorer, mean_absolute_error, mean_squared_error, r2_score\n",
    "from sklearn.linear_model import LinearRegression\n",
    "from sklearn.ensemble import RandomForestRegressor\n",
    "import xgboost as xgb\n",
    "from sklearn.svm import SVR\n",
    "from sklearn.pipeline import make_pipeline\n",
    "from sklearn.preprocessing import MaxAbsScaler\n",
    "from sklearn.pipeline import Pipeline"
   ]
  },
  {
   "cell_type": "code",
   "execution_count": null,
   "metadata": {},
   "outputs": [],
   "source": [
    "# Load preprocessed df\n",
    "final_df = pd.read_csv('../Data/final_pisa_werd_merged.csv')"
   ]
  },
  {
   "cell_type": "markdown",
   "metadata": {},
   "source": [
    "### Word Embeddings"
   ]
  },
  {
   "cell_type": "markdown",
   "metadata": {},
   "source": [
    "#### TF-IDF"
   ]
  },
  {
   "cell_type": "code",
   "execution_count": null,
   "metadata": {},
   "outputs": [],
   "source": [
    "tfidf_vectorizer = TfidfVectorizer()\n",
    "tfidf_features = tfidf_vectorizer.fit_transform(final_df['reform_description_clean'])\n",
    "\n",
    "print(tfidf_features.shape)"
   ]
  },
  {
   "cell_type": "markdown",
   "metadata": {},
   "source": [
    "#### Word2Vec"
   ]
  },
  {
   "cell_type": "code",
   "execution_count": null,
   "metadata": {},
   "outputs": [],
   "source": [
    "final_df['tokens'] = final_df['reform_description_clean'].apply(lambda x: x.split())\n",
    "\n",
    "word2vec_model = gensim.models.Word2Vec(final_df['tokens'])\n",
    "\n",
    "def document_vector(doc):\n",
    "    doc = [word for word in doc if word in word2vec_model.wv.index_to_key]\n",
    "    if not doc:\n",
    "        return np.zeros(100)\n",
    "    return np.mean(word2vec_model.wv[doc], axis=0)\n",
    "\n",
    "word2vec_features = np.vstack(final_df['tokens'].apply(document_vector))\n",
    "\n",
    "print(\"Word2Vec features shape:\", word2vec_features.shape)"
   ]
  },
  {
   "cell_type": "markdown",
   "metadata": {},
   "source": [
    "#### Doc2Vec"
   ]
  },
  {
   "cell_type": "code",
   "execution_count": null,
   "metadata": {},
   "outputs": [],
   "source": [
    "final_df['tokens'] = final_df['reform_description_clean'].apply(lambda x: x.split())\n",
    "\n",
    "documents = [TaggedDocument(doc, [i]) for i, doc in enumerate(final_df['tokens'])]\n",
    "\n",
    "doc2vec_model = Doc2Vec(documents)\n",
    "\n",
    "doc2vec_features = np.array([doc2vec_model.infer_vector(doc.words) for doc in documents])\n",
    "\n",
    "print(\"Doc2Vec features shape:\", doc2vec_features.shape)"
   ]
  },
  {
   "cell_type": "markdown",
   "metadata": {},
   "source": [
    "#### BERT - BASE"
   ]
  },
  {
   "cell_type": "code",
   "execution_count": null,
   "metadata": {},
   "outputs": [],
   "source": [
    "tokenizer = BertTokenizer.from_pretrained('bert-base-uncased')\n",
    "model = BertModel.from_pretrained('bert-base-uncased')\n",
    "\n",
    "def encode_text(text):\n",
    "    inputs = tokenizer(text, return_tensors='pt', padding=True, truncation=True, max_length=512)\n",
    "    outputs = model(**inputs)\n",
    "    return outputs.last_hidden_state[:, 0, :].detach().numpy()\n",
    "\n",
    "bert_base_features = np.vstack(final_df['reform_description_clean'].apply(encode_text))\n",
    "\n",
    "print(\"BERT features shape:\", bert_base_features.shape)"
   ]
  },
  {
   "cell_type": "markdown",
   "metadata": {},
   "source": [
    "#### BERT - Large"
   ]
  },
  {
   "cell_type": "code",
   "execution_count": null,
   "metadata": {},
   "outputs": [],
   "source": [
    "tokenizer = BertTokenizer.from_pretrained('bert-large-uncased')\n",
    "model = BertModel.from_pretrained('bert-large-uncased')\n",
    "\n",
    "def encode_text_large(text):\n",
    "    inputs = tokenizer(text, return_tensors='pt', padding=True, truncation=True, max_length=512)\n",
    "    outputs = model(**inputs)\n",
    "    return outputs.last_hidden_state[:, 0, :].detach().numpy()\n",
    "\n",
    "bert_large_features = np.vstack(final_df['reform_description_clean'].apply(encode_text_large))\n",
    "\n",
    "print(\"BERT features shape:\", bert_large_features.shape)"
   ]
  },
  {
   "cell_type": "markdown",
   "metadata": {},
   "source": [
    "## Hyperparameter Tuning"
   ]
  },
  {
   "cell_type": "markdown",
   "metadata": {},
   "source": [
    "#### TF-IDF Hyperparameter Tuning"
   ]
  },
  {
   "cell_type": "code",
   "execution_count": null,
   "metadata": {},
   "outputs": [],
   "source": [
    "X = tfidf_features\n",
    "y = final_df['Mean_Last_PISA_Score'].values\n",
    "\n",
    "X_train, X_test, y_train, y_test = train_test_split(final_df['reform_description_clean'], y, test_size=0.2, random_state=42)\n",
    "\n",
    "pipeline = Pipeline([\n",
    "    ('tfidf', TfidfVectorizer()),\n",
    "    ('rf', RandomForestRegressor(n_estimators=100, random_state=42, n_jobs=-1))\n",
    "])\n",
    "\n",
    "param_grid = {\n",
    "    'tfidf__ngram_range': [(1, 1), (1, 2), (1, 3)],\n",
    "    'tfidf__max_df': [0.25, 0.5, 0.75, 1.0],\n",
    "}\n",
    "\n",
    "grid_search = GridSearchCV(pipeline, param_grid, cv=5, scoring='neg_mean_absolute_error', n_jobs=-1, verbose=1)\n",
    "grid_search.fit(X_train, y_train)\n",
    "\n",
    "best_tfidf_params = grid_search.best_params_\n",
    "print(\"Best TF-IDF parameters:\", best_tfidf_params)\n",
    "\n",
    "best_tfidf_vectorizer = TfidfVectorizer(**{k.replace(\"tfidf__\", \"\"): v for k, v in best_tfidf_params.items()})\n",
    "X_train_tfidf = best_tfidf_vectorizer.fit_transform(X_train)\n",
    "X_test_tfidf = best_tfidf_vectorizer.transform(X_test)\n",
    "\n",
    "# Fit the RandomForest with the best TF-IDF parameters\n",
    "rf_model = RandomForestRegressor(n_estimators=100, random_state=42, n_jobs=-1)\n",
    "rf_model.fit(X_train_tfidf, y_train)\n",
    "predictions = rf_model.predict(X_test_tfidf)\n",
    "\n",
    "mae = mean_absolute_error(y_test, predictions)\n",
    "mse = mean_squared_error(y_test, predictions)\n",
    "rmse = np.sqrt(mse)\n",
    "r2 = r2_score(y_test, predictions)\n",
    "\n",
    "print(\"Test MAE:\", mae)\n",
    "print(\"Test MSE:\", mse)\n",
    "print(\"Test RMSE:\", rmse)\n",
    "print(\"Test R²:\", r2)"
   ]
  },
  {
   "cell_type": "markdown",
   "metadata": {},
   "source": [
    "#### Word2Vec Hyperparameter Tuning"
   ]
  },
  {
   "cell_type": "code",
   "execution_count": null,
   "metadata": {},
   "outputs": [],
   "source": [
    "X = word2vec_features\n",
    "y = final_df['Mean_Last_PISA_Score'].values\n",
    "\n",
    "final_df['tokens'] = final_df['reform_description_clean'].apply(lambda x: x.split())\n",
    "\n",
    "vector_sizes = [50, 75, 100, 125, 150, 175, 200, 225]\n",
    "windows = [1, 2, 3, 4, 5, 6, 7, 8]\n",
    "min_counts = [1, 2, 3]\n",
    "\n",
    "word2vec_results = []\n",
    "\n",
    "for vector_size in vector_sizes:\n",
    "    for window in windows:\n",
    "        for min_count in min_counts:\n",
    "            model = gensim.models.Word2Vec(final_df['tokens'], vector_size=vector_size, window=window, min_count=min_count, workers=4)\n",
    "            X = np.vstack(final_df['tokens'].apply(lambda doc: np.mean([model.wv[word] for word in doc if word in model.wv], axis=0)))\n",
    "            y = final_df['Mean_Last_PISA_Score']\n",
    "            \n",
    "            X_train, X_test, y_train, y_test = train_test_split(X, y, test_size=0.2, random_state=42)\n",
    "            \n",
    "            rf_model = RandomForestRegressor(n_estimators=100, random_state=42)\n",
    "            rf_model.fit(X_train, y_train)\n",
    "            predictions = rf_model.predict(X_test)\n",
    "            mae = mean_absolute_error(y_test, predictions)\n",
    "            mse = mean_squared_error(y_test, predictions)\n",
    "            rmse = np.sqrt(mse)\n",
    "            r2 = r2_score(y_test, predictions)\n",
    "            \n",
    "            word2vec_results.append({\n",
    "                'vector_size': vector_size,\n",
    "                'window': window,\n",
    "                'min_count': min_count,\n",
    "                'MAE': mae,\n",
    "                'MSE': mse,\n",
    "                'RMSE': rmse,\n",
    "                'R2': r2\n",
    "            })\n",
    "\n",
    "\n",
    "word2vec_results_df = pd.DataFrame(word2vec_results)\n",
    "\n",
    "def display_best_config(results_df, metric, minimize=True):\n",
    "    if minimize:\n",
    "        best_row = results_df.loc[results_df[metric].idxmin()]\n",
    "    else:\n",
    "        best_row = results_df.loc[results_df[metric].idxmax()]\n",
    "    print(f\"Best configuration based on {metric} ({'Min' if minimize else 'Max'}imize):\")\n",
    "    print(best_row)\n",
    "\n",
    "metrics = ['MAE', 'MSE', 'RMSE', 'R2']\n",
    "\n",
    "print(\"\\nBest Word2Vec Configurations:\")\n",
    "for metric in metrics:\n",
    "    display_best_config(word2vec_results_df, metric, minimize=(metric != 'R2'))"
   ]
  },
  {
   "cell_type": "markdown",
   "metadata": {},
   "source": [
    "#### Doc2Vec Hyperparameter Tuning"
   ]
  },
  {
   "cell_type": "code",
   "execution_count": null,
   "metadata": {},
   "outputs": [],
   "source": [
    "X = doc2vec_features\n",
    "y = final_df['Mean_Last_PISA_Score'].values\n",
    "\n",
    "final_df['tokens'] = final_df['reform_description_clean'].apply(lambda x: x.split())\n",
    "\n",
    "doc2vec_results = []\n",
    "documents = [TaggedDocument(doc, [i]) for i, doc in enumerate(final_df['tokens'])]\n",
    "\n",
    "for vector_size in vector_sizes:\n",
    "    for window in windows:\n",
    "        for min_count in min_counts:\n",
    "            model = Doc2Vec(documents, vector_size=vector_size, window=window, min_count=min_count, workers=4)\n",
    "            \n",
    "            X = np.array([model.infer_vector(doc.words) for doc in documents])\n",
    "            y = final_df['Mean_Last_PISA_Score']\n",
    "            \n",
    "            X_train, X_test, y_train, y_test = train_test_split(X, y, test_size=0.2, random_state=42)\n",
    "            \n",
    "            rf_model = RandomForestRegressor(n_estimators=100, random_state=42)\n",
    "            rf_model.fit(X_train, y_train)\n",
    "            \n",
    "            predictions = rf_model.predict(X_test)\n",
    "            mae = mean_absolute_error(y_test, predictions)\n",
    "            mse = mean_squared_error(y_test, predictions)\n",
    "            rmse = np.sqrt(mse)\n",
    "            r2 = r2_score(y_test, predictions)\n",
    "            \n",
    "            doc2vec_results.append({\n",
    "                'vector_size': vector_size,\n",
    "                'window': window,\n",
    "                'min_count': min_count,\n",
    "                'MAE': mae,\n",
    "                'MSE': mse,\n",
    "                'RMSE': rmse,\n",
    "                'R2': r2\n",
    "            })\n",
    "\n",
    "doc2vec_results_df = pd.DataFrame(doc2vec_results)\n",
    "\n",
    "print(\"\\nBest Doc2Vec Configurations:\")\n",
    "for metric in metrics:\n",
    "    display_best_config(doc2vec_results_df, metric, minimize=(metric != 'R2'))\n"
   ]
  },
  {
   "cell_type": "markdown",
   "metadata": {},
   "source": [
    "#### BERT-Base Hyperparameter Tuning"
   ]
  },
  {
   "cell_type": "code",
   "execution_count": null,
   "metadata": {},
   "outputs": [],
   "source": [
    "X = bert_base_features\n",
    "y = final_df['Mean_Last_PISA_Score'].values\n",
    "tokenizer = BertTokenizer.from_pretrained('bert-base-uncased')\n",
    "model = BertModel.from_pretrained('bert-base-uncased')\n",
    "model.eval()\n",
    "\n",
    "def encode_text(texts, max_len, padding, truncation):\n",
    "    max_len = min(max_len, tokenizer.model_max_length)\n",
    "    inputs = tokenizer(texts, return_tensors='pt', padding=padding, truncation=truncation, max_length=max_len)\n",
    "    with torch.no_grad():\n",
    "        outputs = model(**inputs)\n",
    "    return outputs.last_hidden_state[:, 0, :].detach().numpy()\n",
    "\n",
    "parameters = {\n",
    "    'max_length': [128, 256, 512],\n",
    "    'padding': ['max_length'],\n",
    "    'truncation': [True]\n",
    "}\n",
    "\n",
    "bert_results = []\n",
    "\n",
    "for max_len, pad, trunc in product(parameters['max_length'], parameters['padding'], parameters['truncation']):\n",
    "    X = np.vstack(final_df['reform_description_clean'].apply(lambda text: encode_text([text], max_len, pad, trunc)))\n",
    "\n",
    "    X_train, X_test, y_train, y_test = train_test_split(X, y, test_size=0.2, random_state=42)\n",
    "    rf_model = RandomForestRegressor(n_estimators=100, random_state=42)\n",
    "    rf_model.fit(X_train, y_train)\n",
    "    predictions = rf_model.predict(X_test)\n",
    "\n",
    "    mae = mean_absolute_error(y_test, predictions)\n",
    "    mse = mean_squared_error(y_test, predictions)\n",
    "    rmse = np.sqrt(mse)\n",
    "    r2 = r2_score(y_test, predictions)\n",
    "\n",
    "    bert_results.append({\n",
    "        'max_length': max_len,\n",
    "        'padding': pad,\n",
    "        'truncation': trunc,\n",
    "        'MAE': mae,\n",
    "        'MSE': mse,\n",
    "        'RMSE': rmse,\n",
    "        'R2': r2\n",
    "    })\n",
    "\n",
    "bert_results_df = pd.DataFrame(bert_results)\n",
    "\n",
    "print(\"\\nBest BERT Configurations:\")\n",
    "metrics = ['MAE', 'MSE', 'RMSE', 'R2']\n",
    "for metric in metrics:\n",
    "    best_config = bert_results_df.loc[bert_results_df[metric].idxmin()] if metric != 'R2' else bert_results_df.loc[bert_results_df[metric].idxmax()]\n",
    "    print(f\"Best {metric}: {best_config.to_dict()}\")"
   ]
  },
  {
   "cell_type": "markdown",
   "metadata": {},
   "source": [
    "#### BERT-Large Hyperparameter Tuning"
   ]
  },
  {
   "cell_type": "code",
   "execution_count": null,
   "metadata": {},
   "outputs": [],
   "source": [
    "X = bert_large_features\n",
    "y = final_df['Mean_Last_PISA_Score'].values\n",
    "\n",
    "tokenizer = BertTokenizer.from_pretrained('bert-large-uncased')\n",
    "model = BertModel.from_pretrained('bert-large-uncased')\n",
    "model.eval()\n",
    "\n",
    "def encode_text(texts, max_len, padding, truncation):\n",
    "    max_len = min(max_len, tokenizer.model_max_length)\n",
    "    inputs = tokenizer(texts, return_tensors='pt', padding=padding, truncation=truncation, max_length=max_len)\n",
    "    with torch.no_grad():\n",
    "        outputs = model(**inputs)\n",
    "    return outputs.last_hidden_state[:, 0, :].detach().numpy()\n",
    "\n",
    "parameters = {\n",
    "    'max_length': [128, 256, 512],\n",
    "    'padding': ['max_length'],\n",
    "    'truncation': [True]\n",
    "}\n",
    "\n",
    "bert_large_results = []\n",
    "\n",
    "for max_len, pad, trunc in product(parameters['max_length'], parameters['padding'], parameters['truncation']):\n",
    "    X = np.vstack(final_df['reform_description_clean'].apply(lambda text: encode_text([text], max_len, pad, trunc)))\n",
    "\n",
    "    X_train, X_test, y_train, y_test = train_test_split(X, y, test_size=0.2, random_state=42)\n",
    "    rf_model = RandomForestRegressor(n_estimators=100, random_state=42)\n",
    "    rf_model.fit(X_train, y_train)\n",
    "    predictions = rf_model.predict(X_test)\n",
    "\n",
    "    mae = mean_absolute_error(y_test, predictions)\n",
    "    mse = mean_squared_error(y_test, predictions)\n",
    "    rmse = np.sqrt(mse)\n",
    "    r2 = r2_score(y_test, predictions)\n",
    "\n",
    "    bert_large_results.append({\n",
    "        'max_length': max_len,\n",
    "        'padding': pad,\n",
    "        'truncation': trunc,\n",
    "        'MAE': mae,\n",
    "        'MSE': mse,\n",
    "        'RMSE': rmse,\n",
    "        'R2': r2\n",
    "    })\n",
    "\n",
    "bert_large_results_df = pd.DataFrame(bert_large_results)\n",
    "\n",
    "print(\"\\nBest BERT Large Configurations:\")\n",
    "metrics = ['MAE', 'MSE', 'RMSE', 'R2']\n",
    "for metric in metrics:\n",
    "    best_config = bert_large_results_df.loc[bert_large_results_df[metric].idxmin()] if metric != 'R2' else bert_large_results_df.loc[bert_large_results_df[metric].idxmax()]\n",
    "    print(f\"Best {metric}: {best_config.to_dict()}\")"
   ]
  },
  {
   "cell_type": "markdown",
   "metadata": {},
   "source": [
    "### Hyperparameter Tuning Regression Models"
   ]
  },
  {
   "cell_type": "markdown",
   "metadata": {},
   "source": [
    "#### Load the best word embedding configuration"
   ]
  },
  {
   "cell_type": "code",
   "execution_count": null,
   "metadata": {},
   "outputs": [],
   "source": [
    "final_df['tokens'] = final_df['reform_description_clean'].apply(lambda x: x.split())\n",
    "\n",
    "documents = [TaggedDocument(doc, [i]) for i, doc in enumerate(final_df['tokens'])]\n",
    "\n",
    "doc2vec_model = Doc2Vec(documents, vector_size=175, window=6, min_count=3, workers=4)\n",
    "\n",
    "doc2vec_best = np.array([doc2vec_model.infer_vector(doc.words) for doc in documents])\n",
    "\n",
    "print(\"Doc2Vec features shape:\", doc2vec_best.shape)"
   ]
  },
  {
   "cell_type": "markdown",
   "metadata": {},
   "source": [
    "#### Hyperparameter Tuning Random Forest"
   ]
  },
  {
   "cell_type": "code",
   "execution_count": null,
   "metadata": {},
   "outputs": [],
   "source": [
    "X = doc2vec_best\n",
    "y = final_df['Mean_Last_PISA_Score'].values\n",
    "\n",
    "param_grid = {\n",
    "    'n_estimators': [50, 75, 100, 125, 150, 175, 200],\n",
    "    'max_features': ['sqrt', 'log2'],\n",
    "    'max_depth': [None, 10, 20, 30],\n",
    "    'min_samples_split': [2, 5, 10],\n",
    "    'min_samples_leaf': [1, 2, 4]\n",
    "}\n",
    "\n",
    "rf = RandomForestRegressor(random_state=42)\n",
    "\n",
    "grid_search = GridSearchCV(estimator=rf, param_grid=param_grid, cv=5, n_jobs=-1, verbose=2, scoring='neg_mean_absolute_error')\n",
    "\n",
    "grid_search.fit(X, y)\n",
    "\n",
    "print(\"Best parameters:\", grid_search.best_params_)\n",
    "print(\"Best MAE score:\", -grid_search.best_score_)"
   ]
  },
  {
   "cell_type": "markdown",
   "metadata": {},
   "source": [
    "#### Cross Validation Random Forest"
   ]
  },
  {
   "cell_type": "code",
   "execution_count": null,
   "metadata": {},
   "outputs": [],
   "source": [
    "model = RandomForestRegressor(n_estimators=75, random_state=42, max_depth=10, max_features='sqrt', min_samples_leaf=1, min_samples_split=2, n_jobs=-1)\n",
    "\n",
    "kf = KFold(n_splits=5, shuffle=True, random_state=42)\n",
    "\n",
    "mae_scorer = make_scorer(mean_absolute_error, greater_is_better=False)\n",
    "mse_scorer = make_scorer(mean_squared_error, greater_is_better=False)\n",
    "r2_scorer = make_scorer(r2_score)\n",
    "\n",
    "mae_scores = cross_val_score(model, X, y, cv=kf, scoring=mae_scorer)\n",
    "mse_scores = cross_val_score(model, X, y, cv=kf, scoring=mse_scorer)\n",
    "r2_scores = cross_val_score(model, X, y, cv=kf, scoring=r2_scorer)\n",
    "\n",
    "mae_scores = -mae_scores\n",
    "mse_scores = -mse_scores\n",
    "rmse_scores = np.sqrt(mse_scores)\n",
    "\n",
    "print(\"MAE scores from each fold: \", mae_scores)\n",
    "print(\"Average MAE: \", np.mean(mae_scores))\n",
    "print(\"Standard Deviation of MAE: \", np.std(mae_scores))\n",
    "\n",
    "print(\"MSE scores from each fold: \", mse_scores)\n",
    "print(\"Average MSE: \", np.mean(mse_scores))\n",
    "print(\"Standard Deviation of MSE: \", np.std(mse_scores))\n",
    "\n",
    "print(\"RMSE scores from each fold: \", rmse_scores)\n",
    "print(\"Average RMSE: \", np.mean(rmse_scores))\n",
    "print(\"Standard Deviation of RMSE: \", np.std(rmse_scores))\n",
    "\n",
    "print(\"R² scores from each fold: \", r2_scores)\n",
    "print(\"Average R²: \", np.mean(r2_scores))\n",
    "print(\"Standard Deviation of R²: \", np.std(r2_scores))"
   ]
  },
  {
   "cell_type": "markdown",
   "metadata": {},
   "source": [
    "#### Hyperparameter Tuning XGBoost"
   ]
  },
  {
   "cell_type": "code",
   "execution_count": null,
   "metadata": {},
   "outputs": [],
   "source": [
    "param_grid = {\n",
    "    'n_estimators': [100, 200, 300],\n",
    "    'learning_rate': [0.01, 0.1, 0.2],\n",
    "    'max_depth': [3, 6, 9],\n",
    "    'min_child_weight': [1, 3, 5],\n",
    "    'subsample': [0.7, 0.9, 1.0],\n",
    "    'colsample_bytree': [0.7, 0.9, 1.0]\n",
    "}\n",
    "\n",
    "xgb_model = xgb.XGBRegressor(random_state=42)\n",
    "\n",
    "grid_search = GridSearchCV(estimator=xgb_model, param_grid=param_grid, cv=5, n_jobs=-1, verbose=2, scoring='neg_mean_absolute_error')\n",
    "grid_search.fit(X, y)\n",
    "\n",
    "best_params = grid_search.best_params_\n",
    "print(\"Best parameters:\", best_params)\n",
    "print(\"Best MAE score:\", -grid_search.best_score_)"
   ]
  },
  {
   "cell_type": "markdown",
   "metadata": {},
   "source": [
    "#### Cross Validation XGBoost"
   ]
  },
  {
   "cell_type": "code",
   "execution_count": null,
   "metadata": {},
   "outputs": [],
   "source": [
    "best_xgb_model = xgb.XGBRegressor(**best_params, random_state=42, n_jobs=-1)\n",
    "\n",
    "kf = KFold(n_splits=10, shuffle=True, random_state=42)\n",
    "\n",
    "mae_scorer = make_scorer(mean_absolute_error, greater_is_better=False)\n",
    "mse_scorer = make_scorer(mean_squared_error, greater_is_better=False)\n",
    "r2_scorer = make_scorer(r2_score)\n",
    "\n",
    "mae_scores = cross_val_score(best_xgb_model, X, y, cv=kf, scoring=mae_scorer)\n",
    "mse_scores = cross_val_score(best_xgb_model, X, y, cv=kf, scoring=mse_scorer)\n",
    "r2_scores = cross_val_score(best_xgb_model, X, y, cv=kf, scoring=r2_scorer)\n",
    "\n",
    "mae_scores = -mae_scores\n",
    "mse_scores = -mse_scores\n",
    "rmse_scores = np.sqrt(mse_scores)\n",
    "\n",
    "print(\"MAE scores from each fold: \", mae_scores)\n",
    "print(\"Average MAE: \", np.mean(mae_scores))\n",
    "print(\"Standard Deviation of MAE: \", np.std(mae_scores))\n",
    "\n",
    "print(\"MSE scores from each fold: \", mse_scores)\n",
    "print(\"Average MSE: \", np.mean(mse_scores))\n",
    "print(\"Standard Deviation of MSE: \", np.std(mse_scores))\n",
    "\n",
    "print(\"RMSE scores from each fold: \", rmse_scores)\n",
    "print(\"Average RMSE: \", np.mean(rmse_scores))\n",
    "print(\"Standard Deviation of RMSE: \", np.std(rmse_scores))\n",
    "\n",
    "print(\"R² scores from each fold: \", r2_scores)\n",
    "print(\"Average R²: \", np.mean(r2_scores))\n",
    "print(\"Standard Deviation of R²: \", np.std(r2_scores))"
   ]
  },
  {
   "cell_type": "markdown",
   "metadata": {},
   "source": [
    "#### Hyperparameter Tuning SVR"
   ]
  },
  {
   "cell_type": "code",
   "execution_count": null,
   "metadata": {},
   "outputs": [],
   "source": [
    "pipeline = make_pipeline(MaxAbsScaler(), SVR())\n",
    "\n",
    "param_grid = {\n",
    "    'svr__C': [0.1, 1, 10, 100],\n",
    "    'svr__gamma': ['scale', 'auto', 0.01, 0.1, 1],\n",
    "    'svr__kernel': ['rbf', 'linear', 'poly'],\n",
    "    'svr__epsilon': [0.1, 0.2, 0.5]\n",
    "}\n",
    "\n",
    "grid_search = GridSearchCV(pipeline, param_grid, cv=5, scoring='neg_mean_absolute_error', n_jobs=-1, verbose=2)\n",
    "grid_search.fit(X, y)\n",
    "\n",
    "best_params = grid_search.best_params_\n",
    "print(\"Best parameters:\", best_params)\n",
    "print(\"Best MAE score:\", -grid_search.best_score_)"
   ]
  },
  {
   "cell_type": "markdown",
   "metadata": {},
   "source": [
    "#### Cross Validation SVR"
   ]
  },
  {
   "cell_type": "code",
   "execution_count": null,
   "metadata": {},
   "outputs": [],
   "source": [
    "best_svm_params = {k.replace('svr__', ''): v for k, v in best_params.items()}\n",
    "\n",
    "best_svm_model = make_pipeline(MaxAbsScaler(), SVR(**best_svm_params))\n",
    "\n",
    "kf = KFold(n_splits=10, shuffle=True, random_state=42)\n",
    "\n",
    "mae_scorer = make_scorer(mean_absolute_error, greater_is_better=False)\n",
    "mse_scorer = make_scorer(mean_squared_error, greater_is_better=False)\n",
    "r2_scorer = make_scorer(r2_score)\n",
    "\n",
    "mae_scores = cross_val_score(best_svm_model, X, y, cv=kf, scoring=mae_scorer)\n",
    "mse_scores = cross_val_score(best_svm_model, X, y, cv=kf, scoring=mse_scorer)\n",
    "r2_scores = cross_val_score(best_svm_model, X, y, cv=kf, scoring=r2_scorer)\n",
    "\n",
    "mae_scores = -mae_scores\n",
    "mse_scores = -mse_scores\n",
    "rmse_scores = np.sqrt(mse_scores)\n",
    "\n",
    "print(\"MAE scores from each fold: \", mae_scores)\n",
    "print(\"Average MAE: \", np.mean(mae_scores))\n",
    "print(\"Standard Deviation of MAE: \", np.std(mae_scores))\n",
    "\n",
    "print(\"MSE scores from each fold: \", mse_scores)\n",
    "print(\"Average MSE: \", np.mean(mse_scores))\n",
    "print(\"Standard Deviation of MSE: \", np.std(mse_scores))\n",
    "\n",
    "print(\"RMSE scores from each fold: \", rmse_scores)\n",
    "print(\"Average RMSE: \", np.mean(rmse_scores))\n",
    "print(\"Standard Deviation of RMSE: \", np.std(rmse_scores))\n",
    "\n",
    "print(\"R² scores from each fold: \", r2_scores)\n",
    "print(\"Average R²: \", np.mean(r2_scores))\n",
    "print(\"Standard Deviation of R²: \", np.std(r2_scores))"
   ]
  }
 ],
 "metadata": {
  "kernelspec": {
   "display_name": "Python 3",
   "language": "python",
   "name": "python3"
  },
  "language_info": {
   "codemirror_mode": {
    "name": "ipython",
    "version": 3
   },
   "file_extension": ".py",
   "mimetype": "text/x-python",
   "name": "python",
   "nbconvert_exporter": "python",
   "pygments_lexer": "ipython3",
   "version": "3.11.9"
  }
 },
 "nbformat": 4,
 "nbformat_minor": 2
}
