{
 "cells": [
  {
   "cell_type": "markdown",
   "metadata": {},
   "source": [
    "# Using NLP on Educational Reform Policies to Predict Educational Outcome\n",
    "### Model Testing"
   ]
  },
  {
   "cell_type": "code",
   "execution_count": 2,
   "metadata": {},
   "outputs": [],
   "source": [
    "# Import Statements\n",
    "import pandas as pd\n",
    "import numpy as np\n",
    "import seaborn as sns\n",
    "import matplotlib.pyplot as plt\n",
    "from sklearn.feature_extraction.text import TfidfVectorizer\n",
    "import gensim\n",
    "from gensim.models.doc2vec import Doc2Vec, TaggedDocument\n",
    "from transformers import BertTokenizer, BertModel\n",
    "import torch\n",
    "from sklearn.model_selection import train_test_split\n",
    "from sklearn.metrics import mean_absolute_error, mean_squared_error, r2_score\n",
    "from sklearn.linear_model import LinearRegression\n",
    "from sklearn.ensemble import RandomForestRegressor\n",
    "import xgboost as xgb\n",
    "from sklearn.svm import SVR\n",
    "from sklearn.pipeline import make_pipeline\n",
    "from sklearn.preprocessing import MaxAbsScaler\n"
   ]
  },
  {
   "cell_type": "code",
   "execution_count": 3,
   "metadata": {},
   "outputs": [],
   "source": [
    "# Load preprocessed df\n",
    "final_df = pd.read_csv('../Data/final_pisa_werd_merged.csv')"
   ]
  },
  {
   "cell_type": "markdown",
   "metadata": {},
   "source": [
    "## Word Embeddings"
   ]
  },
  {
   "cell_type": "markdown",
   "metadata": {},
   "source": [
    "#### TF-IDF"
   ]
  },
  {
   "cell_type": "code",
   "execution_count": 4,
   "metadata": {},
   "outputs": [
    {
     "name": "stdout",
     "output_type": "stream",
     "text": [
      "(91, 12019)\n"
     ]
    }
   ],
   "source": [
    "tfidf_vectorizer = TfidfVectorizer()\n",
    "tfidf_features = tfidf_vectorizer.fit_transform(final_df['reform_description_clean'])\n",
    "\n",
    "print(tfidf_features.shape)"
   ]
  },
  {
   "cell_type": "markdown",
   "metadata": {},
   "source": [
    "#### Word2Vec"
   ]
  },
  {
   "cell_type": "code",
   "execution_count": 7,
   "metadata": {},
   "outputs": [
    {
     "name": "stdout",
     "output_type": "stream",
     "text": [
      "Word2Vec features shape: (91, 100)\n"
     ]
    }
   ],
   "source": [
    "final_df['tokens'] = final_df['reform_description_clean'].apply(lambda x: x.split())\n",
    "\n",
    "word2vec_model = gensim.models.Word2Vec(final_df['tokens'])\n",
    "\n",
    "def document_vector(doc):\n",
    "    doc = [word for word in doc if word in word2vec_model.wv.index_to_key]\n",
    "    if not doc:\n",
    "        return np.zeros(100)\n",
    "    return np.mean(word2vec_model.wv[doc], axis=0)\n",
    "\n",
    "word2vec_features = np.vstack(final_df['tokens'].apply(document_vector))\n",
    "\n",
    "print(\"Word2Vec features shape:\", word2vec_features.shape)"
   ]
  },
  {
   "cell_type": "markdown",
   "metadata": {},
   "source": [
    "#### Doc2Vec"
   ]
  },
  {
   "cell_type": "code",
   "execution_count": 8,
   "metadata": {},
   "outputs": [
    {
     "name": "stdout",
     "output_type": "stream",
     "text": [
      "Doc2Vec features shape: (91, 100)\n"
     ]
    }
   ],
   "source": [
    "final_df['tokens'] = final_df['reform_description_clean'].apply(lambda x: x.split())\n",
    "\n",
    "documents = [TaggedDocument(doc, [i]) for i, doc in enumerate(final_df['tokens'])]\n",
    "\n",
    "doc2vec_model = Doc2Vec(documents)\n",
    "\n",
    "doc2vec_features = np.array([doc2vec_model.infer_vector(doc.words) for doc in documents])\n",
    "\n",
    "print(\"Doc2Vec features shape:\", doc2vec_features.shape)"
   ]
  },
  {
   "cell_type": "markdown",
   "metadata": {},
   "source": [
    "#### BERT - Base"
   ]
  },
  {
   "cell_type": "code",
   "execution_count": 9,
   "metadata": {},
   "outputs": [
    {
     "name": "stderr",
     "output_type": "stream",
     "text": [
      "C:\\Users\\kenan\\AppData\\Local\\Packages\\PythonSoftwareFoundation.Python.3.11_qbz5n2kfra8p0\\LocalCache\\local-packages\\Python311\\site-packages\\huggingface_hub\\file_download.py:1132: FutureWarning: `resume_download` is deprecated and will be removed in version 1.0.0. Downloads always resume when possible. If you want to force a new download, use `force_download=True`.\n",
      "  warnings.warn(\n"
     ]
    },
    {
     "name": "stdout",
     "output_type": "stream",
     "text": [
      "BERT features shape: (91, 768)\n"
     ]
    }
   ],
   "source": [
    "tokenizer = BertTokenizer.from_pretrained('bert-base-uncased')\n",
    "model = BertModel.from_pretrained('bert-base-uncased')\n",
    "\n",
    "def encode_text(text):\n",
    "    inputs = tokenizer(text, return_tensors='pt', padding=True, truncation=True, max_length=512)\n",
    "    outputs = model(**inputs)\n",
    "    return outputs.last_hidden_state[:, 0, :].detach().numpy()\n",
    "\n",
    "bert_base_features = np.vstack(final_df['reform_description_clean'].apply(encode_text))\n",
    "\n",
    "print(\"BERT features shape:\", bert_base_features.shape)"
   ]
  },
  {
   "cell_type": "markdown",
   "metadata": {},
   "source": [
    "#### BERT - Large"
   ]
  },
  {
   "cell_type": "code",
   "execution_count": 10,
   "metadata": {},
   "outputs": [
    {
     "name": "stderr",
     "output_type": "stream",
     "text": [
      "C:\\Users\\kenan\\AppData\\Local\\Packages\\PythonSoftwareFoundation.Python.3.11_qbz5n2kfra8p0\\LocalCache\\local-packages\\Python311\\site-packages\\huggingface_hub\\file_download.py:1132: FutureWarning: `resume_download` is deprecated and will be removed in version 1.0.0. Downloads always resume when possible. If you want to force a new download, use `force_download=True`.\n",
      "  warnings.warn(\n"
     ]
    },
    {
     "name": "stdout",
     "output_type": "stream",
     "text": [
      "BERT features shape: (91, 1024)\n"
     ]
    }
   ],
   "source": [
    "tokenizer = BertTokenizer.from_pretrained('bert-large-uncased')\n",
    "model = BertModel.from_pretrained('bert-large-uncased')\n",
    "\n",
    "def encode_text_large(text):\n",
    "    inputs = tokenizer(text, return_tensors='pt', padding=True, truncation=True, max_length=512)\n",
    "    outputs = model(**inputs)\n",
    "    return outputs.last_hidden_state[:, 0, :].detach().numpy()\n",
    "\n",
    "bert_large_features = np.vstack(final_df['reform_description_clean'].apply(encode_text_large))\n",
    "\n",
    "print(\"BERT features shape:\", bert_large_features.shape)"
   ]
  },
  {
   "cell_type": "markdown",
   "metadata": {},
   "source": [
    "## Model Testing"
   ]
  },
  {
   "cell_type": "markdown",
   "metadata": {},
   "source": [
    "#### TF-IDF Model Testing"
   ]
  },
  {
   "cell_type": "code",
   "execution_count": 11,
   "metadata": {},
   "outputs": [],
   "source": [
    "X = tfidf_features\n",
    "y = final_df['Mean_Last_PISA_Score'].values\n",
    "\n",
    "X_train, X_test, y_train, y_test = train_test_split(X, y, test_size=0.2, random_state=42)"
   ]
  },
  {
   "cell_type": "markdown",
   "metadata": {},
   "source": [
    "#### Linear Regression TF-IDF"
   ]
  },
  {
   "cell_type": "code",
   "execution_count": 12,
   "metadata": {},
   "outputs": [
    {
     "name": "stdout",
     "output_type": "stream",
     "text": [
      "Linear Regression\n",
      "Mean Absolute Error: 37.637880772741376\n",
      "Mean Squared Error: 2153.7364893378995\n",
      "Root Mean Squared Error: 46.40836658769515\n",
      "R² Score: 0.5004186669802189\n"
     ]
    }
   ],
   "source": [
    "linear_model = LinearRegression()\n",
    "linear_model.fit(X_train, y_train)\n",
    "\n",
    "linear_predictions = linear_model.predict(X_test)\n",
    "linear_mae = mean_absolute_error(y_test, linear_predictions)\n",
    "linear_mse = mean_squared_error(y_test, linear_predictions)\n",
    "linear_rmse = np.sqrt(linear_mse)\n",
    "linear_r2 = r2_score(y_test, linear_predictions)\n",
    "\n",
    "print(\"Linear Regression\")\n",
    "print(f'Mean Absolute Error: {linear_mae}')\n",
    "print(f'Mean Squared Error: {linear_mse}')\n",
    "print(f'Root Mean Squared Error: {linear_rmse}')\n",
    "print(f'R² Score: {linear_r2}')"
   ]
  },
  {
   "cell_type": "markdown",
   "metadata": {},
   "source": [
    "#### Random Forest TF-IDF"
   ]
  },
  {
   "cell_type": "code",
   "execution_count": 13,
   "metadata": {},
   "outputs": [
    {
     "name": "stdout",
     "output_type": "stream",
     "text": [
      "Random Forest Regression\n",
      "Mean Absolute Error: 41.121871345029184\n",
      "Mean Squared Error: 2519.2868719947965\n",
      "Root Mean Squared Error: 50.19249816451455\n",
      "R² Score: 0.41562549550464734\n"
     ]
    }
   ],
   "source": [
    "model = RandomForestRegressor(n_estimators=150, random_state=42, n_jobs = -1)\n",
    "model.fit(X_train, y_train)\n",
    "\n",
    "predictions = model.predict(X_test)\n",
    "mae = mean_absolute_error(y_test, predictions)\n",
    "mse = mean_squared_error(y_test, predictions)\n",
    "rmse = np.sqrt(mse)\n",
    "r2 = r2_score(y_test, predictions)\n",
    "\n",
    "print(\"Random Forest Regression\")\n",
    "print(f'Mean Absolute Error: {mae}')\n",
    "print(f'Mean Squared Error: {mse}')\n",
    "print(f'Root Mean Squared Error: {rmse}')\n",
    "print(f'R² Score: {r2}')"
   ]
  },
  {
   "cell_type": "markdown",
   "metadata": {},
   "source": [
    "#### XGBoost TF-IDF"
   ]
  },
  {
   "cell_type": "code",
   "execution_count": 14,
   "metadata": {},
   "outputs": [
    {
     "name": "stdout",
     "output_type": "stream",
     "text": [
      "XGBoost Regression\n",
      "Mean Absolute Error: 45.3185028611568\n",
      "Mean Squared Error: 3064.095806459063\n",
      "Root Mean Squared Error: 55.354275412645976\n",
      "R² Score: 0.2892514590019658\n"
     ]
    }
   ],
   "source": [
    "xgb_model = xgb.XGBRegressor(n_estimators=100, learning_rate=0.1, random_state=42)\n",
    "xgb_model.fit(X_train, y_train)\n",
    "\n",
    "xgb_predictions = xgb_model.predict(X_test)\n",
    "xgb_mae = mean_absolute_error(y_test, xgb_predictions)\n",
    "xgb_mse = mean_squared_error(y_test, xgb_predictions)\n",
    "xgb_rmse = np.sqrt(xgb_mse)\n",
    "xgb_r2 = r2_score(y_test, xgb_predictions)\n",
    "\n",
    "print(\"XGBoost Regression\")\n",
    "print(f'Mean Absolute Error: {xgb_mae}')\n",
    "print(f'Mean Squared Error: {xgb_mse}')\n",
    "print(f'Root Mean Squared Error: {xgb_rmse}')\n",
    "print(f'R² Score: {xgb_r2}')"
   ]
  },
  {
   "cell_type": "markdown",
   "metadata": {},
   "source": [
    "#### SVR TF-IDF"
   ]
  },
  {
   "cell_type": "code",
   "execution_count": 15,
   "metadata": {},
   "outputs": [
    {
     "name": "stdout",
     "output_type": "stream",
     "text": [
      "SVM Regression\n",
      "Mean Absolute Error: 60.831340888540595\n",
      "Mean Squared Error: 4295.912556668858\n",
      "Root Mean Squared Error: 65.54321136981967\n",
      "R² Score: 0.0035188927607316955\n"
     ]
    }
   ],
   "source": [
    "svm_pipeline = make_pipeline(MaxAbsScaler(), SVR(kernel='rbf', C=1.0, epsilon=0.2))\n",
    "\n",
    "svm_pipeline.fit(X_train, y_train)\n",
    "\n",
    "svm_predictions = svm_pipeline.predict(X_test)\n",
    "\n",
    "svm_mae = mean_absolute_error(y_test, svm_predictions)\n",
    "svm_mse = mean_squared_error(y_test, svm_predictions)\n",
    "svm_rmse = np.sqrt(svm_mse)\n",
    "svm_r2 = r2_score(y_test, svm_predictions)\n",
    "\n",
    "print(\"SVM Regression\")\n",
    "print(f'Mean Absolute Error: {svm_mae}')\n",
    "print(f'Mean Squared Error: {svm_mse}')\n",
    "print(f'Root Mean Squared Error: {svm_rmse}')\n",
    "print(f'R² Score: {svm_r2}')"
   ]
  },
  {
   "cell_type": "markdown",
   "metadata": {},
   "source": [
    "### Word2Vec Model Testing"
   ]
  },
  {
   "cell_type": "code",
   "execution_count": 16,
   "metadata": {},
   "outputs": [],
   "source": [
    "X = word2vec_features\n",
    "y = final_df['Mean_Last_PISA_Score'].values\n",
    "\n",
    "X_train, X_test, y_train, y_test = train_test_split(X, y, test_size=0.2, random_state=0)"
   ]
  },
  {
   "cell_type": "markdown",
   "metadata": {},
   "source": [
    "#### Word2Vec Random Forest"
   ]
  },
  {
   "cell_type": "code",
   "execution_count": 17,
   "metadata": {},
   "outputs": [
    {
     "name": "stdout",
     "output_type": "stream",
     "text": [
      "Random Forest Regression\n",
      "Mean Absolute Error: 34.797777777777725\n",
      "Mean Squared Error: 1649.6342094866716\n",
      "Root Mean Squared Error: 40.61568920363991\n",
      "R² Score: 0.4547184738577771\n"
     ]
    }
   ],
   "source": [
    "model = RandomForestRegressor(n_estimators=150, random_state=42, n_jobs= -1)\n",
    "model.fit(X_train, y_train)\n",
    "\n",
    "predictions = model.predict(X_test)\n",
    "mae = mean_absolute_error(y_test, predictions)\n",
    "mse = mean_squared_error(y_test, predictions)\n",
    "rmse = np.sqrt(mse)\n",
    "r2 = r2_score(y_test, predictions)\n",
    "\n",
    "print(\"Random Forest Regression\")\n",
    "print(f'Mean Absolute Error: {mae}')\n",
    "print(f'Mean Squared Error: {mse}')\n",
    "print(f'Root Mean Squared Error: {rmse}')\n",
    "print(f'R² Score: {r2}')"
   ]
  },
  {
   "cell_type": "markdown",
   "metadata": {},
   "source": [
    "#### Word2Vec XGBoost"
   ]
  },
  {
   "cell_type": "code",
   "execution_count": 18,
   "metadata": {},
   "outputs": [
    {
     "name": "stdout",
     "output_type": "stream",
     "text": [
      "XGBoost Regression\n",
      "Mean Absolute Error: 33.75865521347313\n",
      "Mean Squared Error: 1539.7532826125705\n",
      "Root Mean Squared Error: 39.239690144196736\n",
      "R² Score: 0.4910392770729798\n"
     ]
    }
   ],
   "source": [
    "xgb_model = xgb.XGBRegressor(n_estimators=100, learning_rate=0.1, random_state=42)\n",
    "xgb_model.fit(X_train, y_train)\n",
    "\n",
    "xgb_predictions = xgb_model.predict(X_test)\n",
    "xgb_mae = mean_absolute_error(y_test, xgb_predictions)\n",
    "xgb_mse = mean_squared_error(y_test, xgb_predictions)\n",
    "xgb_rmse = np.sqrt(xgb_mse)\n",
    "xgb_r2 = r2_score(y_test, xgb_predictions)\n",
    "\n",
    "print(\"XGBoost Regression\")\n",
    "print(f'Mean Absolute Error: {xgb_mae}')\n",
    "print(f'Mean Squared Error: {xgb_mse}')\n",
    "print(f'Root Mean Squared Error: {xgb_rmse}')\n",
    "print(f'R² Score: {xgb_r2}')"
   ]
  },
  {
   "cell_type": "markdown",
   "metadata": {},
   "source": [
    "#### Word2Vec SVR"
   ]
  },
  {
   "cell_type": "code",
   "execution_count": 19,
   "metadata": {},
   "outputs": [
    {
     "name": "stdout",
     "output_type": "stream",
     "text": [
      "SVM Regression\n",
      "Mean Absolute Error: 48.77801783203722\n",
      "Mean Squared Error: 2874.3100559791174\n",
      "Root Mean Squared Error: 53.61259232660847\n",
      "R² Score: 0.0499056306440554\n"
     ]
    }
   ],
   "source": [
    "svm_pipeline = make_pipeline(MaxAbsScaler(), SVR(kernel='rbf', C=1.0, epsilon=0.2))\n",
    "\n",
    "svm_pipeline.fit(X_train, y_train)\n",
    "\n",
    "svm_predictions = svm_pipeline.predict(X_test)\n",
    "\n",
    "svm_mae = mean_absolute_error(y_test, svm_predictions)\n",
    "svm_mse = mean_squared_error(y_test, svm_predictions)\n",
    "svm_rmse = np.sqrt(svm_mse)\n",
    "svm_r2 = r2_score(y_test, svm_predictions)\n",
    "\n",
    "print(\"SVM Regression\")\n",
    "print(f'Mean Absolute Error: {svm_mae}')\n",
    "print(f'Mean Squared Error: {svm_mse}')\n",
    "print(f'Root Mean Squared Error: {svm_rmse}')\n",
    "print(f'R² Score: {svm_r2}')"
   ]
  },
  {
   "cell_type": "markdown",
   "metadata": {},
   "source": [
    "### Doc2Vec Model Testing"
   ]
  },
  {
   "cell_type": "code",
   "execution_count": 20,
   "metadata": {},
   "outputs": [],
   "source": [
    "X = doc2vec_features\n",
    "y = final_df['Mean_Last_PISA_Score'].values\n",
    "\n",
    "X_train, X_test, y_train, y_test = train_test_split(X, y, test_size=0.2, random_state=0)"
   ]
  },
  {
   "cell_type": "markdown",
   "metadata": {},
   "source": [
    "#### Doc2Vec Random Forest"
   ]
  },
  {
   "cell_type": "code",
   "execution_count": 21,
   "metadata": {},
   "outputs": [
    {
     "name": "stdout",
     "output_type": "stream",
     "text": [
      "Random Forest Regression\n",
      "Mean Absolute Error: 32.95999999999999\n",
      "Mean Squared Error: 1553.0002567901245\n",
      "Root Mean Squared Error: 39.40812424856231\n",
      "R² Score: 0.4866605304061348\n"
     ]
    }
   ],
   "source": [
    "model = RandomForestRegressor(n_estimators=150, random_state=42, n_jobs=-1)\n",
    "model.fit(X_train, y_train)\n",
    "\n",
    "predictions = model.predict(X_test)\n",
    "mae = mean_absolute_error(y_test, predictions)\n",
    "mse = mean_squared_error(y_test, predictions)\n",
    "rmse = np.sqrt(mse)\n",
    "r2 = r2_score(y_test, predictions)\n",
    "\n",
    "print(\"Random Forest Regression\")\n",
    "print(f'Mean Absolute Error: {mae}')\n",
    "print(f'Mean Squared Error: {mse}')\n",
    "print(f'Root Mean Squared Error: {rmse}')\n",
    "print(f'R² Score: {r2}')"
   ]
  },
  {
   "cell_type": "markdown",
   "metadata": {},
   "source": [
    "#### Doc2Vec XGBoost"
   ]
  },
  {
   "cell_type": "code",
   "execution_count": 22,
   "metadata": {},
   "outputs": [
    {
     "name": "stdout",
     "output_type": "stream",
     "text": [
      "XGBoost Regression\n",
      "Mean Absolute Error: 38.585210967482176\n",
      "Mean Squared Error: 2231.418471529856\n",
      "Root Mean Squared Error: 47.23789232734517\n",
      "R² Score: 0.26241147120950437\n"
     ]
    }
   ],
   "source": [
    "xgb_model = xgb.XGBRegressor(n_estimators=100, learning_rate=0.1, random_state=42)\n",
    "xgb_model.fit(X_train, y_train)\n",
    "\n",
    "xgb_predictions = xgb_model.predict(X_test)\n",
    "xgb_mae = mean_absolute_error(y_test, xgb_predictions)\n",
    "xgb_mse = mean_squared_error(y_test, xgb_predictions)\n",
    "xgb_rmse = np.sqrt(xgb_mse)\n",
    "xgb_r2 = r2_score(y_test, xgb_predictions)\n",
    "\n",
    "print(\"XGBoost Regression\")\n",
    "print(f'Mean Absolute Error: {xgb_mae}')\n",
    "print(f'Mean Squared Error: {xgb_mse}')\n",
    "print(f'Root Mean Squared Error: {xgb_rmse}')\n",
    "print(f'R² Score: {xgb_r2}')"
   ]
  },
  {
   "cell_type": "markdown",
   "metadata": {},
   "source": [
    "#### Doc2Vec SVR"
   ]
  },
  {
   "cell_type": "code",
   "execution_count": 23,
   "metadata": {},
   "outputs": [
    {
     "name": "stdout",
     "output_type": "stream",
     "text": [
      "SVM Regression\n",
      "Mean Absolute Error: 48.029727667917825\n",
      "Mean Squared Error: 2784.104226480761\n",
      "Root Mean Squared Error: 52.76461149748722\n",
      "R² Score: 0.07972289079356143\n"
     ]
    }
   ],
   "source": [
    "svm_pipeline = make_pipeline(MaxAbsScaler(), SVR(kernel='rbf', C=1.0, epsilon=0.2))\n",
    "\n",
    "svm_pipeline.fit(X_train, y_train)\n",
    "\n",
    "svm_predictions = svm_pipeline.predict(X_test)\n",
    "\n",
    "svm_mae = mean_absolute_error(y_test, svm_predictions)\n",
    "svm_mse = mean_squared_error(y_test, svm_predictions)\n",
    "svm_rmse = np.sqrt(svm_mse)\n",
    "svm_r2 = r2_score(y_test, svm_predictions)\n",
    "\n",
    "print(\"SVM Regression\")\n",
    "print(f'Mean Absolute Error: {svm_mae}')\n",
    "print(f'Mean Squared Error: {svm_mse}')\n",
    "print(f'Root Mean Squared Error: {svm_rmse}')\n",
    "print(f'R² Score: {svm_r2}')"
   ]
  },
  {
   "cell_type": "markdown",
   "metadata": {},
   "source": [
    "### BERT - Base Model Testing"
   ]
  },
  {
   "cell_type": "code",
   "execution_count": 24,
   "metadata": {},
   "outputs": [],
   "source": [
    "X = bert_base_features\n",
    "y = final_df['Mean_Last_PISA_Score'].values\n",
    "\n",
    "X_train, X_test, y_train, y_test = train_test_split(X, y, test_size=0.2, random_state=0)"
   ]
  },
  {
   "cell_type": "markdown",
   "metadata": {},
   "source": [
    "#### BERT - Base Random Forest"
   ]
  },
  {
   "cell_type": "code",
   "execution_count": 25,
   "metadata": {},
   "outputs": [
    {
     "name": "stdout",
     "output_type": "stream",
     "text": [
      "Random Forest Regression\n",
      "Mean Absolute Error: 44.1190643274854\n",
      "Mean Squared Error: 2533.906187914234\n",
      "Root Mean Squared Error: 50.33791998001342\n",
      "R² Score: 0.16242508472405714\n"
     ]
    }
   ],
   "source": [
    "model = RandomForestRegressor(n_estimators=150, random_state=42, n_jobs=-1)\n",
    "model.fit(X_train, y_train)\n",
    "\n",
    "predictions = model.predict(X_test)\n",
    "mae = mean_absolute_error(y_test, predictions)\n",
    "mse = mean_squared_error(y_test, predictions)\n",
    "rmse = np.sqrt(mse)\n",
    "r2 = r2_score(y_test, predictions)\n",
    "\n",
    "print(\"Random Forest Regression\")\n",
    "print(f'Mean Absolute Error: {mae}')\n",
    "print(f'Mean Squared Error: {mse}')\n",
    "print(f'Root Mean Squared Error: {rmse}')\n",
    "print(f'R² Score: {r2}')"
   ]
  },
  {
   "cell_type": "markdown",
   "metadata": {},
   "source": [
    "#### BERT - Base XGBoost"
   ]
  },
  {
   "cell_type": "code",
   "execution_count": 26,
   "metadata": {},
   "outputs": [
    {
     "name": "stdout",
     "output_type": "stream",
     "text": [
      "XGBoost Regression\n",
      "Mean Absolute Error: 52.099373800712726\n",
      "Mean Squared Error: 3612.801339904587\n",
      "Root Mean Squared Error: 60.10658316611074\n",
      "R² Score: -0.19420039724131222\n"
     ]
    }
   ],
   "source": [
    "xgb_model = xgb.XGBRegressor(n_estimators=100, learning_rate=0.1, random_state=42)\n",
    "xgb_model.fit(X_train, y_train)\n",
    "\n",
    "xgb_predictions = xgb_model.predict(X_test)\n",
    "xgb_mae = mean_absolute_error(y_test, xgb_predictions)\n",
    "xgb_mse = mean_squared_error(y_test, xgb_predictions)\n",
    "xgb_rmse = np.sqrt(xgb_mse)\n",
    "xgb_r2 = r2_score(y_test, xgb_predictions)\n",
    "\n",
    "print(\"XGBoost Regression\")\n",
    "print(f'Mean Absolute Error: {xgb_mae}')\n",
    "print(f'Mean Squared Error: {xgb_mse}')\n",
    "print(f'Root Mean Squared Error: {xgb_rmse}')\n",
    "print(f'R² Score: {xgb_r2}')"
   ]
  },
  {
   "cell_type": "markdown",
   "metadata": {},
   "source": [
    "#### BERT - Base SVR"
   ]
  },
  {
   "cell_type": "code",
   "execution_count": 27,
   "metadata": {},
   "outputs": [
    {
     "name": "stdout",
     "output_type": "stream",
     "text": [
      "SVM Regression\n",
      "Mean Absolute Error: 50.050225266155856\n",
      "Mean Squared Error: 2996.630965942066\n",
      "Root Mean Squared Error: 54.74149217862138\n",
      "R² Score: 0.009472829190176002\n"
     ]
    }
   ],
   "source": [
    "svm_pipeline = make_pipeline(MaxAbsScaler(), SVR(kernel='rbf', C=1.0, epsilon=0.2))\n",
    "\n",
    "svm_pipeline.fit(X_train, y_train)\n",
    "\n",
    "svm_predictions = svm_pipeline.predict(X_test)\n",
    "\n",
    "svm_mae = mean_absolute_error(y_test, svm_predictions)\n",
    "svm_mse = mean_squared_error(y_test, svm_predictions)\n",
    "svm_rmse = np.sqrt(svm_mse)\n",
    "svm_r2 = r2_score(y_test, svm_predictions)\n",
    "\n",
    "print(\"SVM Regression\")\n",
    "print(f'Mean Absolute Error: {svm_mae}')\n",
    "print(f'Mean Squared Error: {svm_mse}')\n",
    "print(f'Root Mean Squared Error: {svm_rmse}')\n",
    "print(f'R² Score: {svm_r2}')"
   ]
  },
  {
   "cell_type": "markdown",
   "metadata": {},
   "source": [
    "### BERT - Large Model Testing"
   ]
  },
  {
   "cell_type": "code",
   "execution_count": 28,
   "metadata": {},
   "outputs": [],
   "source": [
    "X = bert_large_features\n",
    "y = final_df['Mean_Last_PISA_Score'].values\n",
    "\n",
    "X_train, X_test, y_train, y_test = train_test_split(X, y, test_size=0.2, random_state=0)"
   ]
  },
  {
   "cell_type": "markdown",
   "metadata": {},
   "source": [
    "#### BERT - Large Random Forest"
   ]
  },
  {
   "cell_type": "code",
   "execution_count": 29,
   "metadata": {},
   "outputs": [
    {
     "name": "stdout",
     "output_type": "stream",
     "text": [
      "Random Forest Regression\n",
      "Mean Absolute Error: 37.760116959064376\n",
      "Mean Squared Error: 1912.2168647173523\n",
      "Root Mean Squared Error: 43.72890193816159\n",
      "R² Score: 0.3679225828903986\n"
     ]
    }
   ],
   "source": [
    "model = RandomForestRegressor(n_estimators=150, random_state=42, n_jobs=-1)\n",
    "model.fit(X_train, y_train)\n",
    "\n",
    "predictions = model.predict(X_test)\n",
    "mae = mean_absolute_error(y_test, predictions)\n",
    "mse = mean_squared_error(y_test, predictions)\n",
    "rmse = np.sqrt(mse)\n",
    "r2 = r2_score(y_test, predictions)\n",
    "\n",
    "print(\"Random Forest Regression\")\n",
    "print(f'Mean Absolute Error: {mae}')\n",
    "print(f'Mean Squared Error: {mse}')\n",
    "print(f'Root Mean Squared Error: {rmse}')\n",
    "print(f'R² Score: {r2}')"
   ]
  },
  {
   "cell_type": "markdown",
   "metadata": {},
   "source": [
    "#### BERT - Large XGBoost"
   ]
  },
  {
   "cell_type": "code",
   "execution_count": 30,
   "metadata": {},
   "outputs": [
    {
     "name": "stdout",
     "output_type": "stream",
     "text": [
      "XGBoost Regression\n",
      "Mean Absolute Error: 39.299570719401046\n",
      "Mean Squared Error: 2070.0637933716166\n",
      "Root Mean Squared Error: 45.49795372730093\n",
      "R² Score: 0.3157467649675616\n"
     ]
    }
   ],
   "source": [
    "xgb_model = xgb.XGBRegressor(n_estimators=100, learning_rate=0.1, random_state=42)\n",
    "xgb_model.fit(X_train, y_train)\n",
    "\n",
    "xgb_predictions = xgb_model.predict(X_test)\n",
    "xgb_mae = mean_absolute_error(y_test, xgb_predictions)\n",
    "xgb_mse = mean_squared_error(y_test, xgb_predictions)\n",
    "xgb_rmse = np.sqrt(xgb_mse)\n",
    "xgb_r2 = r2_score(y_test, xgb_predictions)\n",
    "\n",
    "print(\"XGBoost Regression\")\n",
    "print(f'Mean Absolute Error: {xgb_mae}')\n",
    "print(f'Mean Squared Error: {xgb_mse}')\n",
    "print(f'Root Mean Squared Error: {xgb_rmse}')\n",
    "print(f'R² Score: {xgb_r2}')"
   ]
  },
  {
   "cell_type": "markdown",
   "metadata": {},
   "source": [
    "#### BERT - Large SVR"
   ]
  },
  {
   "cell_type": "code",
   "execution_count": 31,
   "metadata": {},
   "outputs": [
    {
     "name": "stdout",
     "output_type": "stream",
     "text": [
      "SVM Regression\n",
      "Mean Absolute Error: 50.26318447762949\n",
      "Mean Squared Error: 3022.6047295165845\n",
      "Root Mean Squared Error: 54.97822050154574\n",
      "R² Score: 0.000887281339553958\n"
     ]
    }
   ],
   "source": [
    "svm_pipeline = make_pipeline(MaxAbsScaler(), SVR(kernel='rbf', C=1.0, epsilon=0.2))\n",
    "\n",
    "svm_pipeline.fit(X_train, y_train)\n",
    "\n",
    "svm_predictions = svm_pipeline.predict(X_test)\n",
    "\n",
    "svm_mae = mean_absolute_error(y_test, svm_predictions)\n",
    "svm_mse = mean_squared_error(y_test, svm_predictions)\n",
    "svm_rmse = np.sqrt(svm_mse)\n",
    "svm_r2 = r2_score(y_test, svm_predictions)\n",
    "\n",
    "print(\"SVM Regression\")\n",
    "print(f'Mean Absolute Error: {svm_mae}')\n",
    "print(f'Mean Squared Error: {svm_mse}')\n",
    "print(f'Root Mean Squared Error: {svm_rmse}')\n",
    "print(f'R² Score: {svm_r2}')"
   ]
  }
 ],
 "metadata": {
  "kernelspec": {
   "display_name": "Python 3",
   "language": "python",
   "name": "python3"
  },
  "language_info": {
   "codemirror_mode": {
    "name": "ipython",
    "version": 3
   },
   "file_extension": ".py",
   "mimetype": "text/x-python",
   "name": "python",
   "nbconvert_exporter": "python",
   "pygments_lexer": "ipython3",
   "version": "3.11.9"
  }
 },
 "nbformat": 4,
 "nbformat_minor": 2
}
