{
 "cells": [
  {
   "cell_type": "markdown",
   "metadata": {},
   "source": [
    "# Using NLP on Educational Reform Policies to Predict Educational Outcome\n",
    "### Preprocessing and EDA"
   ]
  },
  {
   "cell_type": "markdown",
   "metadata": {},
   "source": [
    "Import Statements"
   ]
  },
  {
   "cell_type": "code",
   "execution_count": 48,
   "metadata": {},
   "outputs": [],
   "source": [
    "import pandas as pd\n",
    "import matplotlib.pyplot as plt\n",
    "import seaborn as sns\n",
    "import numpy as np\n",
    "import nltk\n",
    "from nltk.corpus import stopwords\n",
    "from nltk.stem import WordNetLemmatizer"
   ]
  },
  {
   "cell_type": "code",
   "execution_count": 22,
   "metadata": {},
   "outputs": [],
   "source": [
    "# Settings and Style\n",
    "\n",
    "pd.set_option('display.max_columns', None) \n",
    "sns.set(style=\"whitegrid\")"
   ]
  },
  {
   "cell_type": "markdown",
   "metadata": {},
   "source": [
    "Load Dataset"
   ]
  },
  {
   "cell_type": "code",
   "execution_count": 23,
   "metadata": {},
   "outputs": [],
   "source": [
    "# Load WERD Dataset\n",
    "werd_df = pd.read_csv('../Data/World Education Reform Database/werd_v2_translated.csv')"
   ]
  },
  {
   "cell_type": "code",
   "execution_count": 24,
   "metadata": {},
   "outputs": [
    {
     "data": {
      "text/html": [
       "<div>\n",
       "<style scoped>\n",
       "    .dataframe tbody tr th:only-of-type {\n",
       "        vertical-align: middle;\n",
       "    }\n",
       "\n",
       "    .dataframe tbody tr th {\n",
       "        vertical-align: top;\n",
       "    }\n",
       "\n",
       "    .dataframe thead th {\n",
       "        text-align: right;\n",
       "    }\n",
       "</style>\n",
       "<table border=\"1\" class=\"dataframe\">\n",
       "  <thead>\n",
       "    <tr style=\"text-align: right;\">\n",
       "      <th></th>\n",
       "      <th>reform_id</th>\n",
       "      <th>country_code</th>\n",
       "      <th>country_name</th>\n",
       "      <th>reporting_entity</th>\n",
       "      <th>year</th>\n",
       "      <th>reform_title</th>\n",
       "      <th>reform_description</th>\n",
       "      <th>reform_description_translated</th>\n",
       "    </tr>\n",
       "  </thead>\n",
       "  <tbody>\n",
       "    <tr>\n",
       "      <th>0</th>\n",
       "      <td>9</td>\n",
       "      <td>AFG</td>\n",
       "      <td>Afghanistan</td>\n",
       "      <td>Afghanistan</td>\n",
       "      <td>1904.0</td>\n",
       "      <td>Establishment of modern education system</td>\n",
       "      <td>Since the establishment of the modern educatio...</td>\n",
       "      <td>Since the establishment of the modern educatio...</td>\n",
       "    </tr>\n",
       "    <tr>\n",
       "      <th>1</th>\n",
       "      <td>10</td>\n",
       "      <td>AFG</td>\n",
       "      <td>Afghanistan</td>\n",
       "      <td>Afghanistan</td>\n",
       "      <td>1973.0</td>\n",
       "      <td>Structure of general education changed</td>\n",
       "      <td>After the creation of the Republic of Afghanis...</td>\n",
       "      <td>After the creation of the Republic of Afghanis...</td>\n",
       "    </tr>\n",
       "    <tr>\n",
       "      <th>2</th>\n",
       "      <td>5</td>\n",
       "      <td>AFG</td>\n",
       "      <td>Afghanistan</td>\n",
       "      <td>Afghanistan</td>\n",
       "      <td>1978.0</td>\n",
       "      <td>Multi-language textbooks</td>\n",
       "      <td>After the events of 1978, school textbooks and...</td>\n",
       "      <td>After the events of 1978, school textbooks and...</td>\n",
       "    </tr>\n",
       "    <tr>\n",
       "      <th>3</th>\n",
       "      <td>3</td>\n",
       "      <td>AFG</td>\n",
       "      <td>Afghanistan</td>\n",
       "      <td>Afghanistan</td>\n",
       "      <td>1979.0</td>\n",
       "      <td>Structure of general education changed</td>\n",
       "      <td>In 1979, the pattern became 4:3:3.</td>\n",
       "      <td>In 1979, the pattern became 4:3:3.</td>\n",
       "    </tr>\n",
       "    <tr>\n",
       "      <th>4</th>\n",
       "      <td>11</td>\n",
       "      <td>AFG</td>\n",
       "      <td>Afghanistan</td>\n",
       "      <td>Afghanistan</td>\n",
       "      <td>1980.0</td>\n",
       "      <td>Expansion of teacher training schools</td>\n",
       "      <td>Given that the training of qualified teachers ...</td>\n",
       "      <td>Given that the training of qualified teachers ...</td>\n",
       "    </tr>\n",
       "  </tbody>\n",
       "</table>\n",
       "</div>"
      ],
      "text/plain": [
       "   reform_id country_code country_name reporting_entity    year  \\\n",
       "0          9          AFG  Afghanistan      Afghanistan  1904.0   \n",
       "1         10          AFG  Afghanistan      Afghanistan  1973.0   \n",
       "2          5          AFG  Afghanistan      Afghanistan  1978.0   \n",
       "3          3          AFG  Afghanistan      Afghanistan  1979.0   \n",
       "4         11          AFG  Afghanistan      Afghanistan  1980.0   \n",
       "\n",
       "                               reform_title  \\\n",
       "0  Establishment of modern education system   \n",
       "1    Structure of general education changed   \n",
       "2                  Multi-language textbooks   \n",
       "3    Structure of general education changed   \n",
       "4     Expansion of teacher training schools   \n",
       "\n",
       "                                  reform_description  \\\n",
       "0  Since the establishment of the modern educatio...   \n",
       "1  After the creation of the Republic of Afghanis...   \n",
       "2  After the events of 1978, school textbooks and...   \n",
       "3                 In 1979, the pattern became 4:3:3.   \n",
       "4  Given that the training of qualified teachers ...   \n",
       "\n",
       "                       reform_description_translated  \n",
       "0  Since the establishment of the modern educatio...  \n",
       "1  After the creation of the Republic of Afghanis...  \n",
       "2  After the events of 1978, school textbooks and...  \n",
       "3                 In 1979, the pattern became 4:3:3.  \n",
       "4  Given that the training of qualified teachers ...  "
      ]
     },
     "execution_count": 24,
     "metadata": {},
     "output_type": "execute_result"
    }
   ],
   "source": [
    "werd_df.head()"
   ]
  },
  {
   "cell_type": "code",
   "execution_count": 25,
   "metadata": {},
   "outputs": [
    {
     "name": "stdout",
     "output_type": "stream",
     "text": [
      "<class 'pandas.core.frame.DataFrame'>\n",
      "RangeIndex: 10955 entries, 0 to 10954\n",
      "Data columns (total 8 columns):\n",
      " #   Column                         Non-Null Count  Dtype  \n",
      "---  ------                         --------------  -----  \n",
      " 0   reform_id                      10955 non-null  int64  \n",
      " 1   country_code                   10880 non-null  object \n",
      " 2   country_name                   10955 non-null  object \n",
      " 3   reporting_entity               10955 non-null  object \n",
      " 4   year                           10237 non-null  float64\n",
      " 5   reform_title                   10954 non-null  object \n",
      " 6   reform_description             10955 non-null  object \n",
      " 7   reform_description_translated  10955 non-null  object \n",
      "dtypes: float64(1), int64(1), object(6)\n",
      "memory usage: 684.8+ KB\n"
     ]
    }
   ],
   "source": [
    "werd_df.info()"
   ]
  },
  {
   "cell_type": "code",
   "execution_count": 26,
   "metadata": {},
   "outputs": [
    {
     "data": {
      "text/plain": [
       "reform_id                          0\n",
       "country_code                      75\n",
       "country_name                       0\n",
       "reporting_entity                   0\n",
       "year                             718\n",
       "reform_title                       1\n",
       "reform_description                 0\n",
       "reform_description_translated      0\n",
       "dtype: int64"
      ]
     },
     "execution_count": 26,
     "metadata": {},
     "output_type": "execute_result"
    }
   ],
   "source": [
    "werd_df.isnull().sum()"
   ]
  },
  {
   "cell_type": "code",
   "execution_count": 27,
   "metadata": {},
   "outputs": [],
   "source": [
    "# Load PISA Dataset\n",
    "pisa_df = pd.read_csv('..\\Data\\PISA Scores\\PISA_Scores_2000_2022.csv')"
   ]
  },
  {
   "cell_type": "code",
   "execution_count": 28,
   "metadata": {},
   "outputs": [
    {
     "data": {
      "text/html": [
       "<div>\n",
       "<style scoped>\n",
       "    .dataframe tbody tr th:only-of-type {\n",
       "        vertical-align: middle;\n",
       "    }\n",
       "\n",
       "    .dataframe tbody tr th {\n",
       "        vertical-align: top;\n",
       "    }\n",
       "\n",
       "    .dataframe thead th {\n",
       "        text-align: right;\n",
       "    }\n",
       "</style>\n",
       "<table border=\"1\" class=\"dataframe\">\n",
       "  <thead>\n",
       "    <tr style=\"text-align: right;\">\n",
       "      <th></th>\n",
       "      <th>no</th>\n",
       "      <th>country_name</th>\n",
       "      <th>2000_Reading</th>\n",
       "      <th>2000_Mathematics</th>\n",
       "      <th>2000_Science</th>\n",
       "      <th>2003_Reading</th>\n",
       "      <th>2003_Mathematics</th>\n",
       "      <th>2003_Science</th>\n",
       "      <th>2006_Reading</th>\n",
       "      <th>2006_Mathematics</th>\n",
       "      <th>2006_Science</th>\n",
       "      <th>2009_Reading</th>\n",
       "      <th>2009_Mathematics</th>\n",
       "      <th>2009_Science</th>\n",
       "      <th>2012_Reading</th>\n",
       "      <th>2012_Mathematics</th>\n",
       "      <th>2012_Science</th>\n",
       "      <th>2015_Reading</th>\n",
       "      <th>2015_Mathematics</th>\n",
       "      <th>2015_Science</th>\n",
       "      <th>2018_Reading</th>\n",
       "      <th>2018_Mathematics</th>\n",
       "      <th>2018_Science</th>\n",
       "      <th>2022_Reading</th>\n",
       "      <th>2022_Mathematics</th>\n",
       "      <th>2022_Science</th>\n",
       "    </tr>\n",
       "  </thead>\n",
       "  <tbody>\n",
       "    <tr>\n",
       "      <th>0</th>\n",
       "      <td>1</td>\n",
       "      <td>Singapore</td>\n",
       "      <td>NaN</td>\n",
       "      <td>NaN</td>\n",
       "      <td>NaN</td>\n",
       "      <td>NaN</td>\n",
       "      <td>NaN</td>\n",
       "      <td>NaN</td>\n",
       "      <td>NaN</td>\n",
       "      <td>NaN</td>\n",
       "      <td>NaN</td>\n",
       "      <td>526.0</td>\n",
       "      <td>562.0</td>\n",
       "      <td>542.0</td>\n",
       "      <td>542.0</td>\n",
       "      <td>573.0</td>\n",
       "      <td>551.0</td>\n",
       "      <td>535.0</td>\n",
       "      <td>564.0</td>\n",
       "      <td>556.0</td>\n",
       "      <td>549.0</td>\n",
       "      <td>569.0</td>\n",
       "      <td>551.0</td>\n",
       "      <td>543.0</td>\n",
       "      <td>575.0</td>\n",
       "      <td>561.0</td>\n",
       "    </tr>\n",
       "    <tr>\n",
       "      <th>1</th>\n",
       "      <td>2</td>\n",
       "      <td>Japan</td>\n",
       "      <td>522.0</td>\n",
       "      <td>557.0</td>\n",
       "      <td>550.0</td>\n",
       "      <td>498.0</td>\n",
       "      <td>534.0</td>\n",
       "      <td>548.0</td>\n",
       "      <td>498.0</td>\n",
       "      <td>523.0</td>\n",
       "      <td>531.0</td>\n",
       "      <td>520.0</td>\n",
       "      <td>529.0</td>\n",
       "      <td>539.0</td>\n",
       "      <td>538.0</td>\n",
       "      <td>536.0</td>\n",
       "      <td>547.0</td>\n",
       "      <td>516.0</td>\n",
       "      <td>532.0</td>\n",
       "      <td>538.0</td>\n",
       "      <td>504.0</td>\n",
       "      <td>527.0</td>\n",
       "      <td>529.0</td>\n",
       "      <td>516.0</td>\n",
       "      <td>536.0</td>\n",
       "      <td>547.0</td>\n",
       "    </tr>\n",
       "    <tr>\n",
       "      <th>2</th>\n",
       "      <td>3</td>\n",
       "      <td>Macao (China)</td>\n",
       "      <td>NaN</td>\n",
       "      <td>NaN</td>\n",
       "      <td>NaN</td>\n",
       "      <td>NaN</td>\n",
       "      <td>527.0</td>\n",
       "      <td>525.0</td>\n",
       "      <td>492.0</td>\n",
       "      <td>525.0</td>\n",
       "      <td>511.0</td>\n",
       "      <td>487.0</td>\n",
       "      <td>525.0</td>\n",
       "      <td>511.0</td>\n",
       "      <td>509.0</td>\n",
       "      <td>538.0</td>\n",
       "      <td>521.0</td>\n",
       "      <td>509.0</td>\n",
       "      <td>544.0</td>\n",
       "      <td>529.0</td>\n",
       "      <td>525.0</td>\n",
       "      <td>558.0</td>\n",
       "      <td>544.0</td>\n",
       "      <td>510.0</td>\n",
       "      <td>552.0</td>\n",
       "      <td>543.0</td>\n",
       "    </tr>\n",
       "    <tr>\n",
       "      <th>3</th>\n",
       "      <td>4</td>\n",
       "      <td>Taiwan</td>\n",
       "      <td>NaN</td>\n",
       "      <td>NaN</td>\n",
       "      <td>NaN</td>\n",
       "      <td>NaN</td>\n",
       "      <td>NaN</td>\n",
       "      <td>NaN</td>\n",
       "      <td>496.0</td>\n",
       "      <td>549.0</td>\n",
       "      <td>532.0</td>\n",
       "      <td>495.0</td>\n",
       "      <td>543.0</td>\n",
       "      <td>520.0</td>\n",
       "      <td>523.0</td>\n",
       "      <td>560.0</td>\n",
       "      <td>523.0</td>\n",
       "      <td>497.0</td>\n",
       "      <td>542.0</td>\n",
       "      <td>532.0</td>\n",
       "      <td>503.0</td>\n",
       "      <td>531.0</td>\n",
       "      <td>516.0</td>\n",
       "      <td>515.0</td>\n",
       "      <td>547.0</td>\n",
       "      <td>537.0</td>\n",
       "    </tr>\n",
       "    <tr>\n",
       "      <th>4</th>\n",
       "      <td>5</td>\n",
       "      <td>Korea</td>\n",
       "      <td>525.0</td>\n",
       "      <td>547.0</td>\n",
       "      <td>552.0</td>\n",
       "      <td>534.0</td>\n",
       "      <td>542.0</td>\n",
       "      <td>538.0</td>\n",
       "      <td>556.0</td>\n",
       "      <td>547.0</td>\n",
       "      <td>522.0</td>\n",
       "      <td>539.0</td>\n",
       "      <td>546.0</td>\n",
       "      <td>538.0</td>\n",
       "      <td>536.0</td>\n",
       "      <td>554.0</td>\n",
       "      <td>538.0</td>\n",
       "      <td>517.0</td>\n",
       "      <td>524.0</td>\n",
       "      <td>516.0</td>\n",
       "      <td>514.0</td>\n",
       "      <td>526.0</td>\n",
       "      <td>519.0</td>\n",
       "      <td>527.0</td>\n",
       "      <td>527.0</td>\n",
       "      <td>528.0</td>\n",
       "    </tr>\n",
       "  </tbody>\n",
       "</table>\n",
       "</div>"
      ],
      "text/plain": [
       "   no   country_name  2000_Reading  2000_Mathematics  2000_Science  \\\n",
       "0   1      Singapore           NaN               NaN           NaN   \n",
       "1   2          Japan         522.0             557.0         550.0   \n",
       "2   3  Macao (China)           NaN               NaN           NaN   \n",
       "3   4         Taiwan           NaN               NaN           NaN   \n",
       "4   5          Korea         525.0             547.0         552.0   \n",
       "\n",
       "   2003_Reading  2003_Mathematics  2003_Science  2006_Reading  \\\n",
       "0           NaN               NaN           NaN           NaN   \n",
       "1         498.0             534.0         548.0         498.0   \n",
       "2           NaN             527.0         525.0         492.0   \n",
       "3           NaN               NaN           NaN         496.0   \n",
       "4         534.0             542.0         538.0         556.0   \n",
       "\n",
       "   2006_Mathematics  2006_Science  2009_Reading  2009_Mathematics  \\\n",
       "0               NaN           NaN         526.0             562.0   \n",
       "1             523.0         531.0         520.0             529.0   \n",
       "2             525.0         511.0         487.0             525.0   \n",
       "3             549.0         532.0         495.0             543.0   \n",
       "4             547.0         522.0         539.0             546.0   \n",
       "\n",
       "   2009_Science  2012_Reading  2012_Mathematics  2012_Science  2015_Reading  \\\n",
       "0         542.0         542.0             573.0         551.0         535.0   \n",
       "1         539.0         538.0             536.0         547.0         516.0   \n",
       "2         511.0         509.0             538.0         521.0         509.0   \n",
       "3         520.0         523.0             560.0         523.0         497.0   \n",
       "4         538.0         536.0             554.0         538.0         517.0   \n",
       "\n",
       "   2015_Mathematics  2015_Science  2018_Reading  2018_Mathematics  \\\n",
       "0             564.0         556.0         549.0             569.0   \n",
       "1             532.0         538.0         504.0             527.0   \n",
       "2             544.0         529.0         525.0             558.0   \n",
       "3             542.0         532.0         503.0             531.0   \n",
       "4             524.0         516.0         514.0             526.0   \n",
       "\n",
       "   2018_Science  2022_Reading  2022_Mathematics  2022_Science  \n",
       "0         551.0         543.0             575.0         561.0  \n",
       "1         529.0         516.0             536.0         547.0  \n",
       "2         544.0         510.0             552.0         543.0  \n",
       "3         516.0         515.0             547.0         537.0  \n",
       "4         519.0         527.0             527.0         528.0  "
      ]
     },
     "execution_count": 28,
     "metadata": {},
     "output_type": "execute_result"
    }
   ],
   "source": [
    "pisa_df.head()"
   ]
  },
  {
   "cell_type": "code",
   "execution_count": 29,
   "metadata": {},
   "outputs": [
    {
     "name": "stdout",
     "output_type": "stream",
     "text": [
      "<class 'pandas.core.frame.DataFrame'>\n",
      "RangeIndex: 95 entries, 0 to 94\n",
      "Data columns (total 26 columns):\n",
      " #   Column            Non-Null Count  Dtype  \n",
      "---  ------            --------------  -----  \n",
      " 0   no                95 non-null     int64  \n",
      " 1   country_name      95 non-null     object \n",
      " 2   2000_Reading      39 non-null     float64\n",
      " 3   2000_Mathematics  40 non-null     float64\n",
      " 4   2000_Science      41 non-null     float64\n",
      " 5   2003_Reading      38 non-null     float64\n",
      " 6   2003_Mathematics  39 non-null     float64\n",
      " 7   2003_Science      38 non-null     float64\n",
      " 8   2006_Reading      56 non-null     float64\n",
      " 9   2006_Mathematics  57 non-null     float64\n",
      " 10  2006_Science      57 non-null     float64\n",
      " 11  2009_Reading      73 non-null     float64\n",
      " 12  2009_Mathematics  73 non-null     float64\n",
      " 13  2009_Science      73 non-null     float64\n",
      " 14  2012_Reading      65 non-null     float64\n",
      " 15  2012_Mathematics  65 non-null     float64\n",
      " 16  2012_Science      65 non-null     float64\n",
      " 17  2015_Reading      70 non-null     float64\n",
      " 18  2015_Mathematics  70 non-null     float64\n",
      " 19  2015_Science      70 non-null     float64\n",
      " 20  2018_Reading      78 non-null     float64\n",
      " 21  2018_Mathematics  78 non-null     float64\n",
      " 22  2018_Science      78 non-null     float64\n",
      " 23  2022_Reading      81 non-null     float64\n",
      " 24  2022_Mathematics  81 non-null     float64\n",
      " 25  2022_Science      81 non-null     float64\n",
      "dtypes: float64(24), int64(1), object(1)\n",
      "memory usage: 19.4+ KB\n"
     ]
    }
   ],
   "source": [
    "pisa_df.info()"
   ]
  },
  {
   "cell_type": "code",
   "execution_count": 30,
   "metadata": {},
   "outputs": [
    {
     "data": {
      "text/html": [
       "<div>\n",
       "<style scoped>\n",
       "    .dataframe tbody tr th:only-of-type {\n",
       "        vertical-align: middle;\n",
       "    }\n",
       "\n",
       "    .dataframe tbody tr th {\n",
       "        vertical-align: top;\n",
       "    }\n",
       "\n",
       "    .dataframe thead th {\n",
       "        text-align: right;\n",
       "    }\n",
       "</style>\n",
       "<table border=\"1\" class=\"dataframe\">\n",
       "  <thead>\n",
       "    <tr style=\"text-align: right;\">\n",
       "      <th></th>\n",
       "      <th>no</th>\n",
       "      <th>2000_Reading</th>\n",
       "      <th>2000_Mathematics</th>\n",
       "      <th>2000_Science</th>\n",
       "      <th>2003_Reading</th>\n",
       "      <th>2003_Mathematics</th>\n",
       "      <th>2003_Science</th>\n",
       "      <th>2006_Reading</th>\n",
       "      <th>2006_Mathematics</th>\n",
       "      <th>2006_Science</th>\n",
       "      <th>2009_Reading</th>\n",
       "      <th>2009_Mathematics</th>\n",
       "      <th>2009_Science</th>\n",
       "      <th>2012_Reading</th>\n",
       "      <th>2012_Mathematics</th>\n",
       "      <th>2012_Science</th>\n",
       "      <th>2015_Reading</th>\n",
       "      <th>2015_Mathematics</th>\n",
       "      <th>2015_Science</th>\n",
       "      <th>2018_Reading</th>\n",
       "      <th>2018_Mathematics</th>\n",
       "      <th>2018_Science</th>\n",
       "      <th>2022_Reading</th>\n",
       "      <th>2022_Mathematics</th>\n",
       "      <th>2022_Science</th>\n",
       "    </tr>\n",
       "  </thead>\n",
       "  <tbody>\n",
       "    <tr>\n",
       "      <th>count</th>\n",
       "      <td>95.000000</td>\n",
       "      <td>39.000000</td>\n",
       "      <td>40.00000</td>\n",
       "      <td>41.000000</td>\n",
       "      <td>38.000000</td>\n",
       "      <td>39.000000</td>\n",
       "      <td>38.000000</td>\n",
       "      <td>56.000000</td>\n",
       "      <td>57.000000</td>\n",
       "      <td>57.000000</td>\n",
       "      <td>73.000000</td>\n",
       "      <td>73.000000</td>\n",
       "      <td>73.000000</td>\n",
       "      <td>65.000000</td>\n",
       "      <td>65.000000</td>\n",
       "      <td>65.000000</td>\n",
       "      <td>70.000000</td>\n",
       "      <td>70.000000</td>\n",
       "      <td>70.000000</td>\n",
       "      <td>78.000000</td>\n",
       "      <td>78.000000</td>\n",
       "      <td>78.000000</td>\n",
       "      <td>81.000000</td>\n",
       "      <td>81.000000</td>\n",
       "      <td>81.000000</td>\n",
       "    </tr>\n",
       "    <tr>\n",
       "      <th>mean</th>\n",
       "      <td>48.000000</td>\n",
       "      <td>473.512821</td>\n",
       "      <td>470.25000</td>\n",
       "      <td>474.243902</td>\n",
       "      <td>481.131579</td>\n",
       "      <td>485.615385</td>\n",
       "      <td>488.078947</td>\n",
       "      <td>459.517857</td>\n",
       "      <td>469.017544</td>\n",
       "      <td>473.140351</td>\n",
       "      <td>457.109589</td>\n",
       "      <td>459.958904</td>\n",
       "      <td>464.452055</td>\n",
       "      <td>473.984615</td>\n",
       "      <td>473.338462</td>\n",
       "      <td>478.569231</td>\n",
       "      <td>461.557143</td>\n",
       "      <td>461.614286</td>\n",
       "      <td>467.685714</td>\n",
       "      <td>453.384615</td>\n",
       "      <td>458.628205</td>\n",
       "      <td>457.935897</td>\n",
       "      <td>435.382716</td>\n",
       "      <td>437.444444</td>\n",
       "      <td>446.839506</td>\n",
       "    </tr>\n",
       "    <tr>\n",
       "      <th>std</th>\n",
       "      <td>27.568098</td>\n",
       "      <td>54.571475</td>\n",
       "      <td>64.90812</td>\n",
       "      <td>53.022533</td>\n",
       "      <td>41.327415</td>\n",
       "      <td>52.800825</td>\n",
       "      <td>42.797058</td>\n",
       "      <td>57.837387</td>\n",
       "      <td>59.274932</td>\n",
       "      <td>54.581014</td>\n",
       "      <td>53.868812</td>\n",
       "      <td>61.144055</td>\n",
       "      <td>57.700385</td>\n",
       "      <td>47.095811</td>\n",
       "      <td>55.494165</td>\n",
       "      <td>50.684678</td>\n",
       "      <td>51.092311</td>\n",
       "      <td>55.121024</td>\n",
       "      <td>52.308600</td>\n",
       "      <td>52.837470</td>\n",
       "      <td>56.390823</td>\n",
       "      <td>51.888327</td>\n",
       "      <td>56.055233</td>\n",
       "      <td>58.482476</td>\n",
       "      <td>55.774873</td>\n",
       "    </tr>\n",
       "    <tr>\n",
       "      <th>min</th>\n",
       "      <td>1.000000</td>\n",
       "      <td>327.000000</td>\n",
       "      <td>292.00000</td>\n",
       "      <td>333.000000</td>\n",
       "      <td>375.000000</td>\n",
       "      <td>356.000000</td>\n",
       "      <td>385.000000</td>\n",
       "      <td>285.000000</td>\n",
       "      <td>311.000000</td>\n",
       "      <td>322.000000</td>\n",
       "      <td>314.000000</td>\n",
       "      <td>331.000000</td>\n",
       "      <td>330.000000</td>\n",
       "      <td>384.000000</td>\n",
       "      <td>368.000000</td>\n",
       "      <td>373.000000</td>\n",
       "      <td>347.000000</td>\n",
       "      <td>328.000000</td>\n",
       "      <td>332.000000</td>\n",
       "      <td>340.000000</td>\n",
       "      <td>325.000000</td>\n",
       "      <td>336.000000</td>\n",
       "      <td>329.000000</td>\n",
       "      <td>336.000000</td>\n",
       "      <td>347.000000</td>\n",
       "    </tr>\n",
       "    <tr>\n",
       "      <th>25%</th>\n",
       "      <td>24.500000</td>\n",
       "      <td>446.500000</td>\n",
       "      <td>432.75000</td>\n",
       "      <td>443.000000</td>\n",
       "      <td>473.000000</td>\n",
       "      <td>467.000000</td>\n",
       "      <td>481.500000</td>\n",
       "      <td>412.250000</td>\n",
       "      <td>424.000000</td>\n",
       "      <td>428.000000</td>\n",
       "      <td>414.000000</td>\n",
       "      <td>409.000000</td>\n",
       "      <td>416.000000</td>\n",
       "      <td>441.000000</td>\n",
       "      <td>432.000000</td>\n",
       "      <td>439.000000</td>\n",
       "      <td>427.000000</td>\n",
       "      <td>417.250000</td>\n",
       "      <td>425.000000</td>\n",
       "      <td>412.250000</td>\n",
       "      <td>417.250000</td>\n",
       "      <td>417.500000</td>\n",
       "      <td>386.000000</td>\n",
       "      <td>389.000000</td>\n",
       "      <td>403.000000</td>\n",
       "    </tr>\n",
       "    <tr>\n",
       "      <th>50%</th>\n",
       "      <td>48.000000</td>\n",
       "      <td>492.000000</td>\n",
       "      <td>489.00000</td>\n",
       "      <td>487.000000</td>\n",
       "      <td>491.500000</td>\n",
       "      <td>503.000000</td>\n",
       "      <td>495.000000</td>\n",
       "      <td>479.000000</td>\n",
       "      <td>490.000000</td>\n",
       "      <td>489.000000</td>\n",
       "      <td>474.000000</td>\n",
       "      <td>477.000000</td>\n",
       "      <td>486.000000</td>\n",
       "      <td>488.000000</td>\n",
       "      <td>484.000000</td>\n",
       "      <td>494.000000</td>\n",
       "      <td>481.500000</td>\n",
       "      <td>478.500000</td>\n",
       "      <td>476.000000</td>\n",
       "      <td>468.000000</td>\n",
       "      <td>468.000000</td>\n",
       "      <td>468.000000</td>\n",
       "      <td>438.000000</td>\n",
       "      <td>441.000000</td>\n",
       "      <td>447.000000</td>\n",
       "    </tr>\n",
       "    <tr>\n",
       "      <th>75%</th>\n",
       "      <td>71.500000</td>\n",
       "      <td>511.500000</td>\n",
       "      <td>517.75000</td>\n",
       "      <td>512.000000</td>\n",
       "      <td>507.000000</td>\n",
       "      <td>523.500000</td>\n",
       "      <td>517.500000</td>\n",
       "      <td>498.250000</td>\n",
       "      <td>513.000000</td>\n",
       "      <td>513.000000</td>\n",
       "      <td>497.000000</td>\n",
       "      <td>503.000000</td>\n",
       "      <td>508.000000</td>\n",
       "      <td>509.000000</td>\n",
       "      <td>511.000000</td>\n",
       "      <td>521.000000</td>\n",
       "      <td>499.750000</td>\n",
       "      <td>503.500000</td>\n",
       "      <td>508.250000</td>\n",
       "      <td>497.250000</td>\n",
       "      <td>500.000000</td>\n",
       "      <td>498.500000</td>\n",
       "      <td>480.000000</td>\n",
       "      <td>483.000000</td>\n",
       "      <td>494.000000</td>\n",
       "    </tr>\n",
       "    <tr>\n",
       "      <th>max</th>\n",
       "      <td>95.000000</td>\n",
       "      <td>546.000000</td>\n",
       "      <td>560.00000</td>\n",
       "      <td>552.000000</td>\n",
       "      <td>543.000000</td>\n",
       "      <td>550.000000</td>\n",
       "      <td>548.000000</td>\n",
       "      <td>556.000000</td>\n",
       "      <td>549.000000</td>\n",
       "      <td>563.000000</td>\n",
       "      <td>556.000000</td>\n",
       "      <td>600.000000</td>\n",
       "      <td>575.000000</td>\n",
       "      <td>570.000000</td>\n",
       "      <td>613.000000</td>\n",
       "      <td>580.000000</td>\n",
       "      <td>535.000000</td>\n",
       "      <td>564.000000</td>\n",
       "      <td>601.000000</td>\n",
       "      <td>555.000000</td>\n",
       "      <td>591.000000</td>\n",
       "      <td>590.000000</td>\n",
       "      <td>543.000000</td>\n",
       "      <td>575.000000</td>\n",
       "      <td>561.000000</td>\n",
       "    </tr>\n",
       "  </tbody>\n",
       "</table>\n",
       "</div>"
      ],
      "text/plain": [
       "              no  2000_Reading  2000_Mathematics  2000_Science  2003_Reading  \\\n",
       "count  95.000000     39.000000          40.00000     41.000000     38.000000   \n",
       "mean   48.000000    473.512821         470.25000    474.243902    481.131579   \n",
       "std    27.568098     54.571475          64.90812     53.022533     41.327415   \n",
       "min     1.000000    327.000000         292.00000    333.000000    375.000000   \n",
       "25%    24.500000    446.500000         432.75000    443.000000    473.000000   \n",
       "50%    48.000000    492.000000         489.00000    487.000000    491.500000   \n",
       "75%    71.500000    511.500000         517.75000    512.000000    507.000000   \n",
       "max    95.000000    546.000000         560.00000    552.000000    543.000000   \n",
       "\n",
       "       2003_Mathematics  2003_Science  2006_Reading  2006_Mathematics  \\\n",
       "count         39.000000     38.000000     56.000000         57.000000   \n",
       "mean         485.615385    488.078947    459.517857        469.017544   \n",
       "std           52.800825     42.797058     57.837387         59.274932   \n",
       "min          356.000000    385.000000    285.000000        311.000000   \n",
       "25%          467.000000    481.500000    412.250000        424.000000   \n",
       "50%          503.000000    495.000000    479.000000        490.000000   \n",
       "75%          523.500000    517.500000    498.250000        513.000000   \n",
       "max          550.000000    548.000000    556.000000        549.000000   \n",
       "\n",
       "       2006_Science  2009_Reading  2009_Mathematics  2009_Science  \\\n",
       "count     57.000000     73.000000         73.000000     73.000000   \n",
       "mean     473.140351    457.109589        459.958904    464.452055   \n",
       "std       54.581014     53.868812         61.144055     57.700385   \n",
       "min      322.000000    314.000000        331.000000    330.000000   \n",
       "25%      428.000000    414.000000        409.000000    416.000000   \n",
       "50%      489.000000    474.000000        477.000000    486.000000   \n",
       "75%      513.000000    497.000000        503.000000    508.000000   \n",
       "max      563.000000    556.000000        600.000000    575.000000   \n",
       "\n",
       "       2012_Reading  2012_Mathematics  2012_Science  2015_Reading  \\\n",
       "count     65.000000         65.000000     65.000000     70.000000   \n",
       "mean     473.984615        473.338462    478.569231    461.557143   \n",
       "std       47.095811         55.494165     50.684678     51.092311   \n",
       "min      384.000000        368.000000    373.000000    347.000000   \n",
       "25%      441.000000        432.000000    439.000000    427.000000   \n",
       "50%      488.000000        484.000000    494.000000    481.500000   \n",
       "75%      509.000000        511.000000    521.000000    499.750000   \n",
       "max      570.000000        613.000000    580.000000    535.000000   \n",
       "\n",
       "       2015_Mathematics  2015_Science  2018_Reading  2018_Mathematics  \\\n",
       "count         70.000000     70.000000     78.000000         78.000000   \n",
       "mean         461.614286    467.685714    453.384615        458.628205   \n",
       "std           55.121024     52.308600     52.837470         56.390823   \n",
       "min          328.000000    332.000000    340.000000        325.000000   \n",
       "25%          417.250000    425.000000    412.250000        417.250000   \n",
       "50%          478.500000    476.000000    468.000000        468.000000   \n",
       "75%          503.500000    508.250000    497.250000        500.000000   \n",
       "max          564.000000    601.000000    555.000000        591.000000   \n",
       "\n",
       "       2018_Science  2022_Reading  2022_Mathematics  2022_Science  \n",
       "count     78.000000     81.000000         81.000000     81.000000  \n",
       "mean     457.935897    435.382716        437.444444    446.839506  \n",
       "std       51.888327     56.055233         58.482476     55.774873  \n",
       "min      336.000000    329.000000        336.000000    347.000000  \n",
       "25%      417.500000    386.000000        389.000000    403.000000  \n",
       "50%      468.000000    438.000000        441.000000    447.000000  \n",
       "75%      498.500000    480.000000        483.000000    494.000000  \n",
       "max      590.000000    543.000000        575.000000    561.000000  "
      ]
     },
     "execution_count": 30,
     "metadata": {},
     "output_type": "execute_result"
    }
   ],
   "source": [
    "pisa_df.describe()"
   ]
  },
  {
   "cell_type": "code",
   "execution_count": 31,
   "metadata": {},
   "outputs": [
    {
     "data": {
      "text/plain": [
       "no                   0\n",
       "country_name         0\n",
       "2000_Reading        56\n",
       "2000_Mathematics    55\n",
       "2000_Science        54\n",
       "2003_Reading        57\n",
       "2003_Mathematics    56\n",
       "2003_Science        57\n",
       "2006_Reading        39\n",
       "2006_Mathematics    38\n",
       "2006_Science        38\n",
       "2009_Reading        22\n",
       "2009_Mathematics    22\n",
       "2009_Science        22\n",
       "2012_Reading        30\n",
       "2012_Mathematics    30\n",
       "2012_Science        30\n",
       "2015_Reading        25\n",
       "2015_Mathematics    25\n",
       "2015_Science        25\n",
       "2018_Reading        17\n",
       "2018_Mathematics    17\n",
       "2018_Science        17\n",
       "2022_Reading        14\n",
       "2022_Mathematics    14\n",
       "2022_Science        14\n",
       "dtype: int64"
      ]
     },
     "execution_count": 31,
     "metadata": {},
     "output_type": "execute_result"
    }
   ],
   "source": [
    "pisa_df.isnull().sum()"
   ]
  },
  {
   "cell_type": "markdown",
   "metadata": {},
   "source": [
    "## Exploratory Data Analysis (EDA)"
   ]
  },
  {
   "cell_type": "code",
   "execution_count": 32,
   "metadata": {},
   "outputs": [
    {
     "data": {
      "image/png": "[encoded data removed]",
      "text/plain": [
       "<Figure size 1200x600 with 1 Axes>"
      ]
     },
     "metadata": {},
     "output_type": "display_data"
    }
   ],
   "source": [
    "# Filter data to include only reforms from 1900 onwards\n",
    "recent_reforms = werd_df[werd_df['year'] >= 1900]\n",
    "\n",
    "plt.figure(figsize=(12, 6))\n",
    "sns.histplot(recent_reforms['year'], kde=True, color='blue')\n",
    "plt.title('Distribution of Educational Reforms from 1900 - 2022')\n",
    "plt.xlabel('Year')\n",
    "plt.ylabel('Number of Reforms')\n",
    "plt.grid(True)\n",
    "plt.show()"
   ]
  },
  {
   "cell_type": "markdown",
   "metadata": {},
   "source": [
    "## Data Cleaning and Preprocessing"
   ]
  },
  {
   "cell_type": "markdown",
   "metadata": {},
   "source": [
    "######\n",
    "\n",
    "1. Each country's last PISA score will be used for prediction\n",
    "2. Every policy that occurs up to 1 year before the last PISA score will not be used for prediction\n",
    "3. A country with PISA score but no Educational Reform Policy will not be included in the model"
   ]
  },
  {
   "cell_type": "markdown",
   "metadata": {},
   "source": [
    "### Feature Engineering"
   ]
  },
  {
   "cell_type": "markdown",
   "metadata": {},
   "source": [
    "#### Find last participating year of each country"
   ]
  },
  {
   "cell_type": "code",
   "execution_count": 33,
   "metadata": {},
   "outputs": [
    {
     "name": "stdout",
     "output_type": "stream",
     "text": [
      "Number of countries with their last PISA test year:\n",
      "Last_PISA_Year\n",
      "2009     4\n",
      "2012     1\n",
      "2015     3\n",
      "2018     6\n",
      "2022    81\n",
      "Name: count, dtype: int64\n"
     ]
    }
   ],
   "source": [
    "pisa_scores_only = pisa_df.drop(['no', 'country_name'], axis=1)\n",
    "\n",
    "years = pisa_scores_only.columns.str.extract(r'(\\d{4})_')[0].dropna().unique()\n",
    "\n",
    "def get_last_year(row):\n",
    "    valid_years = []\n",
    "    for year in years:\n",
    "        if pd.notnull(row.get(f'{year}_Science', None)) or \\\n",
    "           pd.notnull(row.get(f'{year}_Mathematics', None)) or \\\n",
    "           pd.notnull(row.get(f'{year}_Reading', None)):\n",
    "            valid_years.append(year)\n",
    "    if valid_years:\n",
    "        return max(valid_years)\n",
    "    return None\n",
    "\n",
    "pisa_df['Last_PISA_Year'] = pisa_df.apply(get_last_year, axis=1)\n",
    "\n",
    "last_pisa_year_counts = pisa_df['Last_PISA_Year'].value_counts().sort_index()\n",
    "\n",
    "print(\"Number of countries with their last PISA test year:\")\n",
    "print(last_pisa_year_counts)"
   ]
  },
  {
   "cell_type": "markdown",
   "metadata": {},
   "source": [
    "#### Calculate PISA Score of last participation"
   ]
  },
  {
   "cell_type": "code",
   "execution_count": 34,
   "metadata": {},
   "outputs": [],
   "source": [
    "def calculate_mean_score(row, subjects=['Reading', 'Mathematics', 'Science']):\n",
    "    last_year = row['Last_PISA_Year']\n",
    "    scores = [row[f'{last_year}_{subject}'] for subject in subjects if f'{last_year}_{subject}' in row]\n",
    "    return pd.Series(scores).mean()\n",
    "\n",
    "pisa_df['Mean_Last_PISA_Score'] = pisa_df.apply(calculate_mean_score, axis=1)"
   ]
  },
  {
   "cell_type": "code",
   "execution_count": 35,
   "metadata": {},
   "outputs": [
    {
     "data": {
      "text/html": [
       "<div>\n",
       "<style scoped>\n",
       "    .dataframe tbody tr th:only-of-type {\n",
       "        vertical-align: middle;\n",
       "    }\n",
       "\n",
       "    .dataframe tbody tr th {\n",
       "        vertical-align: top;\n",
       "    }\n",
       "\n",
       "    .dataframe thead th {\n",
       "        text-align: right;\n",
       "    }\n",
       "</style>\n",
       "<table border=\"1\" class=\"dataframe\">\n",
       "  <thead>\n",
       "    <tr style=\"text-align: right;\">\n",
       "      <th></th>\n",
       "      <th>country_name</th>\n",
       "      <th>Mean_Last_PISA_Score</th>\n",
       "    </tr>\n",
       "  </thead>\n",
       "  <tbody>\n",
       "    <tr>\n",
       "      <th>0</th>\n",
       "      <td>Singapore</td>\n",
       "      <td>559.666667</td>\n",
       "    </tr>\n",
       "    <tr>\n",
       "      <th>1</th>\n",
       "      <td>Japan</td>\n",
       "      <td>533.000000</td>\n",
       "    </tr>\n",
       "    <tr>\n",
       "      <th>2</th>\n",
       "      <td>Macao (China)</td>\n",
       "      <td>535.000000</td>\n",
       "    </tr>\n",
       "    <tr>\n",
       "      <th>3</th>\n",
       "      <td>Taiwan</td>\n",
       "      <td>533.000000</td>\n",
       "    </tr>\n",
       "    <tr>\n",
       "      <th>4</th>\n",
       "      <td>Korea</td>\n",
       "      <td>527.333333</td>\n",
       "    </tr>\n",
       "  </tbody>\n",
       "</table>\n",
       "</div>"
      ],
      "text/plain": [
       "    country_name  Mean_Last_PISA_Score\n",
       "0      Singapore            559.666667\n",
       "1          Japan            533.000000\n",
       "2  Macao (China)            535.000000\n",
       "3         Taiwan            533.000000\n",
       "4          Korea            527.333333"
      ]
     },
     "execution_count": 35,
     "metadata": {},
     "output_type": "execute_result"
    }
   ],
   "source": [
    "pisa_df[['country_name','Mean_Last_PISA_Score']].head()"
   ]
  },
  {
   "cell_type": "markdown",
   "metadata": {},
   "source": [
    "#### Remove policies more than 1 year before last participation"
   ]
  },
  {
   "cell_type": "code",
   "execution_count": 36,
   "metadata": {},
   "outputs": [
    {
     "name": "stdout",
     "output_type": "stream",
     "text": [
      "<class 'pandas.core.frame.DataFrame'>\n",
      "RangeIndex: 10955 entries, 0 to 10954\n",
      "Data columns (total 8 columns):\n",
      " #   Column                         Non-Null Count  Dtype  \n",
      "---  ------                         --------------  -----  \n",
      " 0   reform_id                      10955 non-null  int64  \n",
      " 1   country_code                   10880 non-null  object \n",
      " 2   country_name                   10955 non-null  object \n",
      " 3   reporting_entity               10955 non-null  object \n",
      " 4   year                           10237 non-null  float64\n",
      " 5   reform_title                   10954 non-null  object \n",
      " 6   reform_description             10955 non-null  object \n",
      " 7   reform_description_translated  10955 non-null  object \n",
      "dtypes: float64(1), int64(1), object(6)\n",
      "memory usage: 684.8+ KB\n"
     ]
    }
   ],
   "source": [
    "werd_df.info()"
   ]
  },
  {
   "cell_type": "code",
   "execution_count": 37,
   "metadata": {},
   "outputs": [],
   "source": [
    "werd_df = werd_df.merge(pisa_df[['country_name', 'Last_PISA_Year']], on='country_name', how='left')\n",
    "\n",
    "werd_df['Last_PISA_Year'] = pd.to_numeric(werd_df['Last_PISA_Year'])\n",
    "werd_df = werd_df[werd_df['year'] < werd_df['Last_PISA_Year']]\n",
    "\n",
    "# Remove policies from the year of the last PISA test onwards\n",
    "werd_df = werd_df[werd_df['year'] < ((werd_df['Last_PISA_Year'])-1)]"
   ]
  },
  {
   "cell_type": "code",
   "execution_count": 38,
   "metadata": {},
   "outputs": [
    {
     "name": "stdout",
     "output_type": "stream",
     "text": [
      "<class 'pandas.core.frame.DataFrame'>\n",
      "Index: 6668 entries, 43 to 10722\n",
      "Data columns (total 9 columns):\n",
      " #   Column                         Non-Null Count  Dtype  \n",
      "---  ------                         --------------  -----  \n",
      " 0   reform_id                      6668 non-null   int64  \n",
      " 1   country_code                   6642 non-null   object \n",
      " 2   country_name                   6668 non-null   object \n",
      " 3   reporting_entity               6668 non-null   object \n",
      " 4   year                           6668 non-null   float64\n",
      " 5   reform_title                   6667 non-null   object \n",
      " 6   reform_description             6668 non-null   object \n",
      " 7   reform_description_translated  6668 non-null   object \n",
      " 8   Last_PISA_Year                 6668 non-null   float64\n",
      "dtypes: float64(2), int64(1), object(6)\n",
      "memory usage: 520.9+ KB\n"
     ]
    }
   ],
   "source": [
    "werd_df.info()"
   ]
  },
  {
   "cell_type": "markdown",
   "metadata": {},
   "source": [
    "#### Output sample columns for thesis"
   ]
  },
  {
   "cell_type": "code",
   "execution_count": 41,
   "metadata": {},
   "outputs": [],
   "source": [
    "sample_df_before_cleaning = werd_df.iloc[74:77, [2, 4, 7]]"
   ]
  },
  {
   "cell_type": "code",
   "execution_count": 42,
   "metadata": {},
   "outputs": [
    {
     "data": {
      "text/html": [
       "<div>\n",
       "<style scoped>\n",
       "    .dataframe tbody tr th:only-of-type {\n",
       "        vertical-align: middle;\n",
       "    }\n",
       "\n",
       "    .dataframe tbody tr th {\n",
       "        vertical-align: top;\n",
       "    }\n",
       "\n",
       "    .dataframe thead th {\n",
       "        text-align: right;\n",
       "    }\n",
       "</style>\n",
       "<table border=\"1\" class=\"dataframe\">\n",
       "  <thead>\n",
       "    <tr style=\"text-align: right;\">\n",
       "      <th></th>\n",
       "      <th>country_name</th>\n",
       "      <th>year</th>\n",
       "      <th>reform_description_translated</th>\n",
       "    </tr>\n",
       "  </thead>\n",
       "  <tbody>\n",
       "    <tr>\n",
       "      <th>117</th>\n",
       "      <td>Albania</td>\n",
       "      <td>2012.0</td>\n",
       "      <td>Decentralization of the education system manag...</td>\n",
       "    </tr>\n",
       "    <tr>\n",
       "      <th>118</th>\n",
       "      <td>Albania</td>\n",
       "      <td>2016.0</td>\n",
       "      <td>Building on the NES 2004-2015, the Ministry of...</td>\n",
       "    </tr>\n",
       "    <tr>\n",
       "      <th>125</th>\n",
       "      <td>Algeria</td>\n",
       "      <td>1962.0</td>\n",
       "      <td>The National Institute for Educational Researc...</td>\n",
       "    </tr>\n",
       "  </tbody>\n",
       "</table>\n",
       "</div>"
      ],
      "text/plain": [
       "    country_name    year                      reform_description_translated\n",
       "117      Albania  2012.0  Decentralization of the education system manag...\n",
       "118      Albania  2016.0  Building on the NES 2004-2015, the Ministry of...\n",
       "125      Algeria  1962.0  The National Institute for Educational Researc..."
      ]
     },
     "execution_count": 42,
     "metadata": {},
     "output_type": "execute_result"
    }
   ],
   "source": [
    "sample_df_before_cleaning"
   ]
  },
  {
   "cell_type": "code",
   "execution_count": 43,
   "metadata": {},
   "outputs": [],
   "source": [
    "sample_df_before_cleaning.to_csv('../Output Figures/sample_df_before_cleaning.csv', index=False)"
   ]
  },
  {
   "cell_type": "markdown",
   "metadata": {},
   "source": [
    "#### Combine remaining policies as one column"
   ]
  },
  {
   "cell_type": "code",
   "execution_count": 44,
   "metadata": {},
   "outputs": [],
   "source": [
    "werd_df['combined_reform_description'] = werd_df.groupby('country_name')['reform_description_translated'].transform(lambda x: ' '.join(x))\n",
    "\n",
    "# Drop duplicates after combining the texts\n",
    "werd_df = werd_df[['country_name', 'combined_reform_description']].drop_duplicates()"
   ]
  },
  {
   "cell_type": "code",
   "execution_count": 45,
   "metadata": {},
   "outputs": [
    {
     "name": "stdout",
     "output_type": "stream",
     "text": [
      "<class 'pandas.core.frame.DataFrame'>\n",
      "Index: 91 entries, 43 to 10600\n",
      "Data columns (total 2 columns):\n",
      " #   Column                       Non-Null Count  Dtype \n",
      "---  ------                       --------------  ----- \n",
      " 0   country_name                 91 non-null     object\n",
      " 1   combined_reform_description  91 non-null     object\n",
      "dtypes: object(2)\n",
      "memory usage: 2.1+ KB\n"
     ]
    }
   ],
   "source": [
    "werd_df.info()"
   ]
  },
  {
   "cell_type": "code",
   "execution_count": 46,
   "metadata": {},
   "outputs": [
    {
     "data": {
      "text/html": [
       "<div>\n",
       "<style scoped>\n",
       "    .dataframe tbody tr th:only-of-type {\n",
       "        vertical-align: middle;\n",
       "    }\n",
       "\n",
       "    .dataframe tbody tr th {\n",
       "        vertical-align: top;\n",
       "    }\n",
       "\n",
       "    .dataframe thead th {\n",
       "        text-align: right;\n",
       "    }\n",
       "</style>\n",
       "<table border=\"1\" class=\"dataframe\">\n",
       "  <thead>\n",
       "    <tr style=\"text-align: right;\">\n",
       "      <th></th>\n",
       "      <th>country_name</th>\n",
       "      <th>combined_reform_description</th>\n",
       "    </tr>\n",
       "  </thead>\n",
       "  <tbody>\n",
       "    <tr>\n",
       "      <th>43</th>\n",
       "      <td>Albania</td>\n",
       "      <td>Although compulsory education was established ...</td>\n",
       "    </tr>\n",
       "    <tr>\n",
       "      <th>125</th>\n",
       "      <td>Algeria</td>\n",
       "      <td>The National Institute for Educational Researc...</td>\n",
       "    </tr>\n",
       "    <tr>\n",
       "      <th>249</th>\n",
       "      <td>Argentina</td>\n",
       "      <td>Probably the most important change that took p...</td>\n",
       "    </tr>\n",
       "    <tr>\n",
       "      <th>379</th>\n",
       "      <td>Australia</td>\n",
       "      <td>State governments have their own Education Act...</td>\n",
       "    </tr>\n",
       "    <tr>\n",
       "      <th>468</th>\n",
       "      <td>Austria</td>\n",
       "      <td>School Reform under Empress Maria Theresa, est...</td>\n",
       "    </tr>\n",
       "  </tbody>\n",
       "</table>\n",
       "</div>"
      ],
      "text/plain": [
       "    country_name                        combined_reform_description\n",
       "43       Albania  Although compulsory education was established ...\n",
       "125      Algeria  The National Institute for Educational Researc...\n",
       "249    Argentina  Probably the most important change that took p...\n",
       "379    Australia  State governments have their own Education Act...\n",
       "468      Austria  School Reform under Empress Maria Theresa, est..."
      ]
     },
     "execution_count": 46,
     "metadata": {},
     "output_type": "execute_result"
    }
   ],
   "source": [
    "werd_df.head()"
   ]
  },
  {
   "cell_type": "markdown",
   "metadata": {},
   "source": [
    "## Text Preprocessing"
   ]
  },
  {
   "cell_type": "markdown",
   "metadata": {},
   "source": [
    "#### Removing Stopwords"
   ]
  },
  {
   "cell_type": "code",
   "execution_count": 49,
   "metadata": {},
   "outputs": [],
   "source": [
    "def normalize_text(text):\n",
    "    lemmatizer = WordNetLemmatizer()\n",
    "    words = nltk.word_tokenize(text.lower())\n",
    "    words = [lemmatizer.lemmatize(word) for word in words if word.isalpha() and word not in stopwords.words('english')]\n",
    "    return ' '.join(words)\n",
    "\n",
    "werd_df['reform_description_clean'] = werd_df['combined_reform_description'].apply(normalize_text)"
   ]
  },
  {
   "cell_type": "markdown",
   "metadata": {},
   "source": [
    "#### Sample output for thesis"
   ]
  },
  {
   "cell_type": "code",
   "execution_count": 50,
   "metadata": {},
   "outputs": [],
   "source": [
    "sample_df_after_combining = werd_df.iloc[0:2, [0, 2]]"
   ]
  },
  {
   "cell_type": "code",
   "execution_count": 52,
   "metadata": {},
   "outputs": [
    {
     "data": {
      "text/html": [
       "<div>\n",
       "<style scoped>\n",
       "    .dataframe tbody tr th:only-of-type {\n",
       "        vertical-align: middle;\n",
       "    }\n",
       "\n",
       "    .dataframe tbody tr th {\n",
       "        vertical-align: top;\n",
       "    }\n",
       "\n",
       "    .dataframe thead th {\n",
       "        text-align: right;\n",
       "    }\n",
       "</style>\n",
       "<table border=\"1\" class=\"dataframe\">\n",
       "  <thead>\n",
       "    <tr style=\"text-align: right;\">\n",
       "      <th></th>\n",
       "      <th>country_name</th>\n",
       "      <th>reform_description_clean</th>\n",
       "    </tr>\n",
       "  </thead>\n",
       "  <tbody>\n",
       "    <tr>\n",
       "      <th>43</th>\n",
       "      <td>Albania</td>\n",
       "      <td>although compulsory education established law ...</td>\n",
       "    </tr>\n",
       "    <tr>\n",
       "      <th>125</th>\n",
       "      <td>Algeria</td>\n",
       "      <td>national institute educational research create...</td>\n",
       "    </tr>\n",
       "  </tbody>\n",
       "</table>\n",
       "</div>"
      ],
      "text/plain": [
       "    country_name                           reform_description_clean\n",
       "43       Albania  although compulsory education established law ...\n",
       "125      Algeria  national institute educational research create..."
      ]
     },
     "execution_count": 52,
     "metadata": {},
     "output_type": "execute_result"
    }
   ],
   "source": [
    "sample_df_after_combining"
   ]
  },
  {
   "cell_type": "code",
   "execution_count": 51,
   "metadata": {},
   "outputs": [],
   "source": [
    "sample_df_after_combining.to_csv('../Output Figures/sample_df_after_combining.csv', index=False)"
   ]
  },
  {
   "cell_type": "markdown",
   "metadata": {},
   "source": [
    "## Combining PISA and WERD DF"
   ]
  },
  {
   "cell_type": "code",
   "execution_count": 53,
   "metadata": {},
   "outputs": [
    {
     "name": "stdout",
     "output_type": "stream",
     "text": [
      "<class 'pandas.core.frame.DataFrame'>\n",
      "Index: 91 entries, 43 to 10600\n",
      "Data columns (total 3 columns):\n",
      " #   Column                       Non-Null Count  Dtype \n",
      "---  ------                       --------------  ----- \n",
      " 0   country_name                 91 non-null     object\n",
      " 1   combined_reform_description  91 non-null     object\n",
      " 2   reform_description_clean     91 non-null     object\n",
      "dtypes: object(3)\n",
      "memory usage: 2.8+ KB\n",
      "None\n",
      "<class 'pandas.core.frame.DataFrame'>\n",
      "RangeIndex: 95 entries, 0 to 94\n",
      "Data columns (total 28 columns):\n",
      " #   Column                Non-Null Count  Dtype  \n",
      "---  ------                --------------  -----  \n",
      " 0   no                    95 non-null     int64  \n",
      " 1   country_name          95 non-null     object \n",
      " 2   2000_Reading          39 non-null     float64\n",
      " 3   2000_Mathematics      40 non-null     float64\n",
      " 4   2000_Science          41 non-null     float64\n",
      " 5   2003_Reading          38 non-null     float64\n",
      " 6   2003_Mathematics      39 non-null     float64\n",
      " 7   2003_Science          38 non-null     float64\n",
      " 8   2006_Reading          56 non-null     float64\n",
      " 9   2006_Mathematics      57 non-null     float64\n",
      " 10  2006_Science          57 non-null     float64\n",
      " 11  2009_Reading          73 non-null     float64\n",
      " 12  2009_Mathematics      73 non-null     float64\n",
      " 13  2009_Science          73 non-null     float64\n",
      " 14  2012_Reading          65 non-null     float64\n",
      " 15  2012_Mathematics      65 non-null     float64\n",
      " 16  2012_Science          65 non-null     float64\n",
      " 17  2015_Reading          70 non-null     float64\n",
      " 18  2015_Mathematics      70 non-null     float64\n",
      " 19  2015_Science          70 non-null     float64\n",
      " 20  2018_Reading          78 non-null     float64\n",
      " 21  2018_Mathematics      78 non-null     float64\n",
      " 22  2018_Science          78 non-null     float64\n",
      " 23  2022_Reading          81 non-null     float64\n",
      " 24  2022_Mathematics      81 non-null     float64\n",
      " 25  2022_Science          81 non-null     float64\n",
      " 26  Last_PISA_Year        95 non-null     object \n",
      " 27  Mean_Last_PISA_Score  95 non-null     float64\n",
      "dtypes: float64(25), int64(1), object(2)\n",
      "memory usage: 20.9+ KB\n",
      "None\n"
     ]
    }
   ],
   "source": [
    "print(werd_df.info())\n",
    "print(pisa_df.info())"
   ]
  },
  {
   "cell_type": "markdown",
   "metadata": {},
   "source": [
    "#### Find countries in PISA but not in WERD and vice versa"
   ]
  },
  {
   "cell_type": "code",
   "execution_count": 54,
   "metadata": {},
   "outputs": [
    {
     "name": "stdout",
     "output_type": "stream",
     "text": [
      "Countries in WERD not in PISA: set()\n",
      "Countries in PISA not in WERD: {'Taiwan', 'Macao (China)', 'Hong Kong', 'Liechtenstein'}\n"
     ]
    }
   ],
   "source": [
    "unique_werd_countries = set(werd_df['country_name'].unique())\n",
    "unique_pisa_countries = set(pisa_df['country_name'].unique())\n",
    "\n",
    "# Find countries that appear in one dataframe but not the other\n",
    "werd_not_in_pisa = unique_werd_countries - unique_pisa_countries\n",
    "pisa_not_in_werd = unique_pisa_countries - unique_werd_countries\n",
    "\n",
    "print(\"Countries in WERD not in PISA:\", werd_not_in_pisa)\n",
    "print(\"Countries in PISA not in WERD:\", pisa_not_in_werd)"
   ]
  },
  {
   "cell_type": "markdown",
   "metadata": {},
   "source": [
    "#### Merge DF"
   ]
  },
  {
   "cell_type": "code",
   "execution_count": 55,
   "metadata": {},
   "outputs": [
    {
     "name": "stdout",
     "output_type": "stream",
     "text": [
      "Preview of the merged DataFrame:\n",
      "  country_name                           reform_description_clean  \\\n",
      "0      Albania  although compulsory education established law ...   \n",
      "1      Algeria  national institute educational research create...   \n",
      "2    Argentina  probably important change took place recogniti...   \n",
      "3    Australia  state government education act make provision ...   \n",
      "4      Austria  school reform empress maria theresa establishm...   \n",
      "\n",
      "   Mean_Last_PISA_Score  \n",
      "0            367.333333  \n",
      "1            362.000000  \n",
      "2            395.000000  \n",
      "3            497.333333  \n",
      "4            486.000000  \n"
     ]
    }
   ],
   "source": [
    "final_df = pd.merge(werd_df[['country_name', 'reform_description_clean']],\n",
    "                    pisa_df[['country_name', 'Mean_Last_PISA_Score']],\n",
    "                    on='country_name', how='outer')\n",
    "\n",
    "print(\"Preview of the merged DataFrame:\")\n",
    "print(final_df.head())"
   ]
  },
  {
   "cell_type": "code",
   "execution_count": 56,
   "metadata": {},
   "outputs": [
    {
     "name": "stdout",
     "output_type": "stream",
     "text": [
      "<class 'pandas.core.frame.DataFrame'>\n",
      "RangeIndex: 95 entries, 0 to 94\n",
      "Data columns (total 3 columns):\n",
      " #   Column                    Non-Null Count  Dtype  \n",
      "---  ------                    --------------  -----  \n",
      " 0   country_name              95 non-null     object \n",
      " 1   reform_description_clean  91 non-null     object \n",
      " 2   Mean_Last_PISA_Score      95 non-null     float64\n",
      "dtypes: float64(1), object(2)\n",
      "memory usage: 2.4+ KB\n"
     ]
    }
   ],
   "source": [
    "final_df.info()"
   ]
  },
  {
   "cell_type": "markdown",
   "metadata": {},
   "source": [
    "#### Four countries will be dropped because there are no reform descriptions for them: Hong Kong, Taiwan, Macao, and Liechtenstein"
   ]
  },
  {
   "cell_type": "code",
   "execution_count": 57,
   "metadata": {},
   "outputs": [
    {
     "name": "stdout",
     "output_type": "stream",
     "text": [
      "Preview of the cleaned DataFrame:\n",
      "  country_name                           reform_description_clean  \\\n",
      "0      Albania  although compulsory education established law ...   \n",
      "1      Algeria  national institute educational research create...   \n",
      "2    Argentina  probably important change took place recogniti...   \n",
      "3    Australia  state government education act make provision ...   \n",
      "4      Austria  school reform empress maria theresa establishm...   \n",
      "\n",
      "   Mean_Last_PISA_Score  \n",
      "0            367.333333  \n",
      "1            362.000000  \n",
      "2            395.000000  \n",
      "3            497.333333  \n",
      "4            486.000000  \n"
     ]
    }
   ],
   "source": [
    "final_df.dropna(subset=['reform_description_clean', 'Mean_Last_PISA_Score'], inplace=True)\n",
    "\n",
    "print(\"Preview of the cleaned DataFrame:\")\n",
    "print(final_df.head())"
   ]
  },
  {
   "cell_type": "code",
   "execution_count": 58,
   "metadata": {},
   "outputs": [
    {
     "name": "stdout",
     "output_type": "stream",
     "text": [
      "<class 'pandas.core.frame.DataFrame'>\n",
      "Index: 91 entries, 0 to 90\n",
      "Data columns (total 3 columns):\n",
      " #   Column                    Non-Null Count  Dtype  \n",
      "---  ------                    --------------  -----  \n",
      " 0   country_name              91 non-null     object \n",
      " 1   reform_description_clean  91 non-null     object \n",
      " 2   Mean_Last_PISA_Score      91 non-null     float64\n",
      "dtypes: float64(1), object(2)\n",
      "memory usage: 2.8+ KB\n"
     ]
    }
   ],
   "source": [
    "final_df.info()"
   ]
  },
  {
   "cell_type": "markdown",
   "metadata": {},
   "source": [
    "### EDA after combining"
   ]
  },
  {
   "cell_type": "markdown",
   "metadata": {},
   "source": [
    "#### Statistics of Mean PISA Score"
   ]
  },
  {
   "cell_type": "code",
   "execution_count": 59,
   "metadata": {},
   "outputs": [
    {
     "name": "stdout",
     "output_type": "stream",
     "text": [
      "count     91.000000\n",
      "mean     433.816850\n",
      "std       56.680832\n",
      "min      325.000000\n",
      "25%      390.666667\n",
      "50%      428.000000\n",
      "75%      480.833333\n",
      "max      578.666667\n",
      "Name: Mean_Last_PISA_Score, dtype: float64\n",
      "<class 'pandas.core.frame.DataFrame'>\n",
      "Index: 91 entries, 0 to 90\n",
      "Data columns (total 3 columns):\n",
      " #   Column                    Non-Null Count  Dtype  \n",
      "---  ------                    --------------  -----  \n",
      " 0   country_name              91 non-null     object \n",
      " 1   reform_description_clean  91 non-null     object \n",
      " 2   Mean_Last_PISA_Score      91 non-null     float64\n",
      "dtypes: float64(1), object(2)\n",
      "memory usage: 2.8+ KB\n"
     ]
    },
    {
     "data": {
      "text/html": [
       "<div>\n",
       "<style scoped>\n",
       "    .dataframe tbody tr th:only-of-type {\n",
       "        vertical-align: middle;\n",
       "    }\n",
       "\n",
       "    .dataframe tbody tr th {\n",
       "        vertical-align: top;\n",
       "    }\n",
       "\n",
       "    .dataframe thead th {\n",
       "        text-align: right;\n",
       "    }\n",
       "</style>\n",
       "<table border=\"1\" class=\"dataframe\">\n",
       "  <thead>\n",
       "    <tr style=\"text-align: right;\">\n",
       "      <th></th>\n",
       "      <th>Mean_Last_PISA_Score</th>\n",
       "    </tr>\n",
       "  </thead>\n",
       "  <tbody>\n",
       "    <tr>\n",
       "      <th>count</th>\n",
       "      <td>91.000000</td>\n",
       "    </tr>\n",
       "    <tr>\n",
       "      <th>mean</th>\n",
       "      <td>433.816850</td>\n",
       "    </tr>\n",
       "    <tr>\n",
       "      <th>std</th>\n",
       "      <td>56.680832</td>\n",
       "    </tr>\n",
       "    <tr>\n",
       "      <th>min</th>\n",
       "      <td>325.000000</td>\n",
       "    </tr>\n",
       "    <tr>\n",
       "      <th>25%</th>\n",
       "      <td>390.666667</td>\n",
       "    </tr>\n",
       "    <tr>\n",
       "      <th>50%</th>\n",
       "      <td>428.000000</td>\n",
       "    </tr>\n",
       "    <tr>\n",
       "      <th>75%</th>\n",
       "      <td>480.833333</td>\n",
       "    </tr>\n",
       "    <tr>\n",
       "      <th>max</th>\n",
       "      <td>578.666667</td>\n",
       "    </tr>\n",
       "  </tbody>\n",
       "</table>\n",
       "</div>"
      ],
      "text/plain": [
       "       Mean_Last_PISA_Score\n",
       "count             91.000000\n",
       "mean             433.816850\n",
       "std               56.680832\n",
       "min              325.000000\n",
       "25%              390.666667\n",
       "50%              428.000000\n",
       "75%              480.833333\n",
       "max              578.666667"
      ]
     },
     "execution_count": 59,
     "metadata": {},
     "output_type": "execute_result"
    }
   ],
   "source": [
    "print(final_df['Mean_Last_PISA_Score'].describe())\n",
    "\n",
    "# Basic info and summary of the dataframe\n",
    "final_df.info()\n",
    "final_df.describe()"
   ]
  },
  {
   "cell_type": "code",
   "execution_count": 60,
   "metadata": {},
   "outputs": [
    {
     "data": {
      "image/png": "[encoded data removed]",
      "text/plain": [
       "<Figure size 800x600 with 1 Axes>"
      ]
     },
     "metadata": {},
     "output_type": "display_data"
    }
   ],
   "source": [
    "import seaborn as sns\n",
    "import matplotlib.pyplot as plt\n",
    "\n",
    "plt.figure(figsize=(8, 6))\n",
    "sns.histplot(final_df['Mean_Last_PISA_Score'], kde=True, color='blue')\n",
    "plt.title('Distribution of Mean Last PISA Scores')\n",
    "plt.xlabel('Mean Last PISA Score')\n",
    "plt.ylabel('Frequency')\n",
    "plt.show()"
   ]
  },
  {
   "cell_type": "markdown",
   "metadata": {},
   "source": [
    "#### Checkpoint (save as csv)"
   ]
  },
  {
   "cell_type": "code",
   "execution_count": null,
   "metadata": {},
   "outputs": [],
   "source": [
    "final_df.to_csv('../Data/final_pisa_werd_merged.csv', index=False)"
   ]
  }
 ],
 "metadata": {
  "kernelspec": {
   "display_name": "Python 3",
   "language": "python",
   "name": "python3"
  },
  "language_info": {
   "codemirror_mode": {
    "name": "ipython",
    "version": 3
   },
   "file_extension": ".py",
   "mimetype": "text/x-python",
   "name": "python",
   "nbconvert_exporter": "python",
   "pygments_lexer": "ipython3",
   "version": "3.11.9"
  }
 },
 "nbformat": 4,
 "nbformat_minor": 2
}
